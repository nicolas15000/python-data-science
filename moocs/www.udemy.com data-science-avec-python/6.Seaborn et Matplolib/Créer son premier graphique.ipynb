{
 "cells": [
  {
   "cell_type": "code",
   "execution_count": 5,
   "metadata": {},
   "outputs": [],
   "source": [
    "import matplotlib.pyplot as plt\n",
    "import numpy \n",
    "import pandas\n",
    "# Réaliser des stats sur un fichier de ventes de black friday .\n",
    "black_friday = pandas.read_csv(\"BlackFriday.csv\")"
   ]
  },
  {
   "cell_type": "code",
   "execution_count": 9,
   "metadata": {},
   "outputs": [
    {
     "data": {
      "text/plain": [
       "[]"
      ]
     },
     "execution_count": 9,
     "metadata": {},
     "output_type": "execute_result"
    },
    {
     "data": {
      "image/png": "[encoded data removed]",
      "text/plain": [
       "<Figure size 432x288 with 1 Axes>"
      ]
     },
     "metadata": {
      "needs_background": "light"
     },
     "output_type": "display_data"
    }
   ],
   "source": [
    "plt.plot()"
   ]
  },
  {
   "cell_type": "code",
   "execution_count": 11,
   "metadata": {},
   "outputs": [],
   "source": [
    "# la somme totale dépensée par catégorie d'age :\n",
    "\n",
    "# on fait un group by catégorie d'age .\n",
    "age_groupe = black_friday.groupby(\"Age\")"
   ]
  },
  {
   "cell_type": "code",
   "execution_count": 40,
   "metadata": {},
   "outputs": [
    {
     "data": {
      "text/html": [
       "<div>\n",
       "<style scoped>\n",
       "    .dataframe tbody tr th:only-of-type {\n",
       "        vertical-align: middle;\n",
       "    }\n",
       "\n",
       "    .dataframe tbody tr th {\n",
       "        vertical-align: top;\n",
       "    }\n",
       "\n",
       "    .dataframe thead th {\n",
       "        text-align: right;\n",
       "    }\n",
       "</style>\n",
       "<table border=\"1\" class=\"dataframe\">\n",
       "  <thead>\n",
       "    <tr style=\"text-align: right;\">\n",
       "      <th></th>\n",
       "      <th>User_ID</th>\n",
       "      <th>Product_ID</th>\n",
       "      <th>Gender</th>\n",
       "      <th>Occupation</th>\n",
       "      <th>City_Category</th>\n",
       "      <th>Stay_In_Current_City_Years</th>\n",
       "      <th>Marital_Status</th>\n",
       "      <th>Product_Category_1</th>\n",
       "      <th>Product_Category_2</th>\n",
       "      <th>Product_Category_3</th>\n",
       "      <th>Purchase</th>\n",
       "    </tr>\n",
       "    <tr>\n",
       "      <th>Age</th>\n",
       "      <th></th>\n",
       "      <th></th>\n",
       "      <th></th>\n",
       "      <th></th>\n",
       "      <th></th>\n",
       "      <th></th>\n",
       "      <th></th>\n",
       "      <th></th>\n",
       "      <th></th>\n",
       "      <th></th>\n",
       "      <th></th>\n",
       "    </tr>\n",
       "  </thead>\n",
       "  <tbody>\n",
       "    <tr>\n",
       "      <th>0-17</th>\n",
       "      <td>14707</td>\n",
       "      <td>14707</td>\n",
       "      <td>14707</td>\n",
       "      <td>14707</td>\n",
       "      <td>14707</td>\n",
       "      <td>14707</td>\n",
       "      <td>14707</td>\n",
       "      <td>14707</td>\n",
       "      <td>10466</td>\n",
       "      <td>4789</td>\n",
       "      <td>14707</td>\n",
       "    </tr>\n",
       "    <tr>\n",
       "      <th>18-25</th>\n",
       "      <td>97634</td>\n",
       "      <td>97634</td>\n",
       "      <td>97634</td>\n",
       "      <td>97634</td>\n",
       "      <td>97634</td>\n",
       "      <td>97634</td>\n",
       "      <td>97634</td>\n",
       "      <td>97634</td>\n",
       "      <td>68256</td>\n",
       "      <td>30889</td>\n",
       "      <td>97634</td>\n",
       "    </tr>\n",
       "    <tr>\n",
       "      <th>26-35</th>\n",
       "      <td>214690</td>\n",
       "      <td>214690</td>\n",
       "      <td>214690</td>\n",
       "      <td>214690</td>\n",
       "      <td>214690</td>\n",
       "      <td>214690</td>\n",
       "      <td>214690</td>\n",
       "      <td>214690</td>\n",
       "      <td>147745</td>\n",
       "      <td>65916</td>\n",
       "      <td>214690</td>\n",
       "    </tr>\n",
       "    <tr>\n",
       "      <th>36-45</th>\n",
       "      <td>107499</td>\n",
       "      <td>107499</td>\n",
       "      <td>107499</td>\n",
       "      <td>107499</td>\n",
       "      <td>107499</td>\n",
       "      <td>107499</td>\n",
       "      <td>107499</td>\n",
       "      <td>107499</td>\n",
       "      <td>74169</td>\n",
       "      <td>32758</td>\n",
       "      <td>107499</td>\n",
       "    </tr>\n",
       "    <tr>\n",
       "      <th>46-50</th>\n",
       "      <td>44526</td>\n",
       "      <td>44526</td>\n",
       "      <td>44526</td>\n",
       "      <td>44526</td>\n",
       "      <td>44526</td>\n",
       "      <td>44526</td>\n",
       "      <td>44526</td>\n",
       "      <td>44526</td>\n",
       "      <td>30441</td>\n",
       "      <td>13135</td>\n",
       "      <td>44526</td>\n",
       "    </tr>\n",
       "    <tr>\n",
       "      <th>51-55</th>\n",
       "      <td>37618</td>\n",
       "      <td>37618</td>\n",
       "      <td>37618</td>\n",
       "      <td>37618</td>\n",
       "      <td>37618</td>\n",
       "      <td>37618</td>\n",
       "      <td>37618</td>\n",
       "      <td>37618</td>\n",
       "      <td>25652</td>\n",
       "      <td>11018</td>\n",
       "      <td>37618</td>\n",
       "    </tr>\n",
       "    <tr>\n",
       "      <th>55+</th>\n",
       "      <td>20903</td>\n",
       "      <td>20903</td>\n",
       "      <td>20903</td>\n",
       "      <td>20903</td>\n",
       "      <td>20903</td>\n",
       "      <td>20903</td>\n",
       "      <td>20903</td>\n",
       "      <td>20903</td>\n",
       "      <td>13862</td>\n",
       "      <td>5773</td>\n",
       "      <td>20903</td>\n",
       "    </tr>\n",
       "  </tbody>\n",
       "</table>\n",
       "</div>"
      ],
      "text/plain": [
       "       User_ID  Product_ID  Gender  Occupation  City_Category  \\\n",
       "Age                                                             \n",
       "0-17     14707       14707   14707       14707          14707   \n",
       "18-25    97634       97634   97634       97634          97634   \n",
       "26-35   214690      214690  214690      214690         214690   \n",
       "36-45   107499      107499  107499      107499         107499   \n",
       "46-50    44526       44526   44526       44526          44526   \n",
       "51-55    37618       37618   37618       37618          37618   \n",
       "55+      20903       20903   20903       20903          20903   \n",
       "\n",
       "       Stay_In_Current_City_Years  Marital_Status  Product_Category_1  \\\n",
       "Age                                                                     \n",
       "0-17                        14707           14707               14707   \n",
       "18-25                       97634           97634               97634   \n",
       "26-35                      214690          214690              214690   \n",
       "36-45                      107499          107499              107499   \n",
       "46-50                       44526           44526               44526   \n",
       "51-55                       37618           37618               37618   \n",
       "55+                         20903           20903               20903   \n",
       "\n",
       "       Product_Category_2  Product_Category_3  Purchase  \n",
       "Age                                                      \n",
       "0-17                10466                4789     14707  \n",
       "18-25               68256               30889     97634  \n",
       "26-35              147745               65916    214690  \n",
       "36-45               74169               32758    107499  \n",
       "46-50               30441               13135     44526  \n",
       "51-55               25652               11018     37618  \n",
       "55+                 13862                5773     20903  "
      ]
     },
     "execution_count": 40,
     "metadata": {},
     "output_type": "execute_result"
    }
   ],
   "source": [
    "# on compte \n",
    "age_groupe.count()"
   ]
  },
  {
   "cell_type": "code",
   "execution_count": 41,
   "metadata": {},
   "outputs": [],
   "source": [
    "# On crée un dictionnaire\n",
    "achats_clients = dict()\n",
    "\n",
    "#for age,group in age_groupe:\n",
    "#    print(age)\n",
    "#    print(group)\n",
    "\n"
   ]
  },
  {
   "cell_type": "code",
   "execution_count": 42,
   "metadata": {},
   "outputs": [
    {
     "data": {
      "text/plain": [
       "{'0-17': 132659006,\n",
       " '18-25': 901669280,\n",
       " '26-35': 1999749106,\n",
       " '36-45': 1010649565,\n",
       " '46-50': 413418223,\n",
       " '51-55': 361908356,\n",
       " '55+': 197614842}"
      ]
     },
     "execution_count": 42,
     "metadata": {},
     "output_type": "execute_result"
    }
   ],
   "source": [
    "# On le remplit avec une boucle for \n",
    "for age,group in age_groupe:\n",
    "    achats_clients[age] = sum(group[\"Purchase\"])\n",
    "    \n",
    "# Affichage de sommes dépensées par catégories d'age\n",
    "achats_clients"
   ]
  },
  {
   "cell_type": "code",
   "execution_count": 58,
   "metadata": {},
   "outputs": [
    {
     "name": "stdout",
     "output_type": "stream",
     "text": [
      "dict_keys(['0-17', '18-25', '26-35', '36-45', '46-50', '51-55', '55+'])\n",
      "['0-17', '18-25', '26-35', '36-45', '46-50', '51-55', '55+']\n"
     ]
    }
   ],
   "source": [
    "keys = achats_clients.keys()\n",
    "print(keys)\n",
    "keys = list(keys)\n",
    "print(keys)"
   ]
  },
  {
   "cell_type": "code",
   "execution_count": 60,
   "metadata": {},
   "outputs": [
    {
     "name": "stdout",
     "output_type": "stream",
     "text": [
      "dict_values([132659006, 901669280, 1999749106, 1010649565, 413418223, 361908356, 197614842])\n",
      "[132659006, 901669280, 1999749106, 1010649565, 413418223, 361908356, 197614842]\n"
     ]
    }
   ],
   "source": [
    "values = achats_clients.values()\n",
    "print(values)\n",
    "values = list(values)\n",
    "print(values)"
   ]
  },
  {
   "cell_type": "code",
   "execution_count": 61,
   "metadata": {},
   "outputs": [
    {
     "data": {
      "image/png": "[encoded data removed]",
      "text/plain": [
       "<Figure size 432x288 with 1 Axes>"
      ]
     },
     "metadata": {
      "needs_background": "light"
     },
     "output_type": "display_data"
    }
   ],
   "source": [
    "# on crée le graphique\n",
    "plt.plot(keys,values)\n",
    "plt.draw()"
   ]
  },
  {
   "cell_type": "code",
   "execution_count": 63,
   "metadata": {},
   "outputs": [
    {
     "data": {
      "image/png": "[encoded data removed]",
      "text/plain": [
       "<Figure size 432x288 with 1 Axes>"
      ]
     },
     "metadata": {
      "needs_background": "light"
     },
     "output_type": "display_data"
    }
   ],
   "source": [
    "# on crée le graphique avec des points option marker )= O les autres options sont sur le site matplotlib \n",
    "plt.plot(keys,values,marker=\"o\")\n",
    "plt.draw()"
   ]
  },
  {
   "cell_type": "code",
   "execution_count": null,
   "metadata": {},
   "outputs": [],
   "source": []
  }
 ],
 "metadata": {
  "kernelspec": {
   "display_name": "Python 3",
   "language": "python",
   "name": "python3"
  },
  "language_info": {
   "codemirror_mode": {
    "name": "ipython",
    "version": 3
   },
   "file_extension": ".py",
   "mimetype": "text/x-python",
   "name": "python",
   "nbconvert_exporter": "python",
   "pygments_lexer": "ipython3",
   "version": "3.7.6"
  }
 },
 "nbformat": 4,
 "nbformat_minor": 4
}
