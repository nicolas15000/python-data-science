{
 "cells": [
  {
   "cell_type": "code",
   "execution_count": 15,
   "metadata": {},
   "outputs": [],
   "source": [
    "# PROJET NFE 204 : Descriptif de base d'un fichier gouv.fr volumineux \n",
    "# et nettoyage avec import en base de données rethinkDb.\n",
    "import matplotlib.pyplot as plt\n",
    "import numpy \n",
    "import pandas\n",
    "# On importe le fichier de ventes de la base nationale des données du tourisme .\n",
    "base_tourisme = pandas.read_csv(\"datatourisme.place.20200728.csv\",low_memory=False)"
   ]
  },
  {
   "cell_type": "code",
   "execution_count": 5,
   "metadata": {},
   "outputs": [
    {
     "data": {
      "text/html": [
       "<div>\n",
       "<style scoped>\n",
       "    .dataframe tbody tr th:only-of-type {\n",
       "        vertical-align: middle;\n",
       "    }\n",
       "\n",
       "    .dataframe tbody tr th {\n",
       "        vertical-align: top;\n",
       "    }\n",
       "\n",
       "    .dataframe thead th {\n",
       "        text-align: right;\n",
       "    }\n",
       "</style>\n",
       "<table border=\"1\" class=\"dataframe\">\n",
       "  <thead>\n",
       "    <tr style=\"text-align: right;\">\n",
       "      <th></th>\n",
       "      <th>Nom_du_POI</th>\n",
       "      <th>Categories_de_POI</th>\n",
       "      <th>Latitude</th>\n",
       "      <th>Longitude</th>\n",
       "      <th>Adresse_postale</th>\n",
       "      <th>Code_postal_et_commune</th>\n",
       "      <th>Covid19_mesures_specifiques</th>\n",
       "      <th>Covid19_est_en_activite</th>\n",
       "      <th>Covid19_periodes_d_ouvertures_confirmees</th>\n",
       "      <th>Createur_de_la_donnee</th>\n",
       "      <th>SIT_diffuseur</th>\n",
       "      <th>Date_de_mise_a_jour</th>\n",
       "      <th>Contacts_du_POI</th>\n",
       "      <th>Classements_du_POI</th>\n",
       "      <th>Description</th>\n",
       "      <th>URI_ID_du_POI</th>\n",
       "    </tr>\n",
       "  </thead>\n",
       "  <tbody>\n",
       "    <tr>\n",
       "      <th>0</th>\n",
       "      <td>Le Bistro de César</td>\n",
       "      <td>https://www.datatourisme.gouv.fr/ontology/core...</td>\n",
       "      <td>49.954915</td>\n",
       "      <td>2.116033</td>\n",
       "      <td>Rue d'Amiens</td>\n",
       "      <td>80310#La Chaussée-Tirancourt</td>\n",
       "      <td>NaN</td>\n",
       "      <td>NaN</td>\n",
       "      <td>NaN</td>\n",
       "      <td>SIM Picardie - OT NIEVRE ET SOMME</td>\n",
       "      <td>Aisne: 03 23 27 76 76&lt;br /&gt;Oise: 03 64 60 60 6...</td>\n",
       "      <td>2020-06-20</td>\n",
       "      <td>Le Bistro de César##accueil.samara@somme.fr#ht...</td>\n",
       "      <td>NaN</td>\n",
       "      <td>true</td>\n",
       "      <td>https://data.datatourisme.gouv.fr/28/b0f51842-...</td>\n",
       "    </tr>\n",
       "    <tr>\n",
       "      <th>1</th>\n",
       "      <td>Château de Condé, demeure des Princes</td>\n",
       "      <td>https://www.datatourisme.gouv.fr/ontology/core...</td>\n",
       "      <td>49.004791</td>\n",
       "      <td>3.559012</td>\n",
       "      <td>4 rue du Château</td>\n",
       "      <td>02330#Condé-en-Brie</td>\n",
       "      <td>4 visites guidées par jour à 10h00, 14h00, 15h...</td>\n",
       "      <td>True</td>\n",
       "      <td>True</td>\n",
       "      <td>SIM Picardie - Agence Aisne Tourisme</td>\n",
       "      <td>SIM Picardie - Agence Aisne Tourisme</td>\n",
       "      <td>2020-07-21</td>\n",
       "      <td>SIM Picardie#+33 3 23 82 42 25#contact@chateau...</td>\n",
       "      <td>Engagé à respecter les protocoles sanitaires o...</td>\n",
       "      <td>Le bijou est à l'intérieur ! Admirez ses sompt...</td>\n",
       "      <td>https://data.datatourisme.gouv.fr/28/16c4c1db-...</td>\n",
       "    </tr>\n",
       "    <tr>\n",
       "      <th>2</th>\n",
       "      <td>Parc du Château de Condé</td>\n",
       "      <td>https://www.datatourisme.gouv.fr/ontology/core...</td>\n",
       "      <td>49.004755</td>\n",
       "      <td>3.559082</td>\n",
       "      <td>4 rue du Château</td>\n",
       "      <td>02330#Condé-en-Brie</td>\n",
       "      <td>4 visites guidées par jour\\r\\nRéservation 24h ...</td>\n",
       "      <td>True</td>\n",
       "      <td>True</td>\n",
       "      <td>SIM Picardie - Maison du Tourisme Les Portes d...</td>\n",
       "      <td>SIM Picardie - Maison du Tourisme Les Portes d...</td>\n",
       "      <td>2020-06-04</td>\n",
       "      <td>#+33 3 23 82 42 25#contact@chateaudeconde.fr#h...</td>\n",
       "      <td>Engagé à respecter les protocoles sanitaires o...</td>\n",
       "      <td>NaN</td>\n",
       "      <td>https://data.datatourisme.gouv.fr/28/695ba7ba-...</td>\n",
       "    </tr>\n",
       "    <tr>\n",
       "      <th>3</th>\n",
       "      <td>Musée Gallé-Juillet</td>\n",
       "      <td>http://schema.org/Museum|https://www.datatouri...</td>\n",
       "      <td>49.261296</td>\n",
       "      <td>2.473935</td>\n",
       "      <td>Place François Mitterand</td>\n",
       "      <td>60100#Creil</td>\n",
       "      <td>Les guides sont équipés de blouse et visière. ...</td>\n",
       "      <td>True</td>\n",
       "      <td>True</td>\n",
       "      <td>SIM Picardie - Office de Tourisme Creil Sud Oise</td>\n",
       "      <td>SIM Picardie - Office de Tourisme Creil Sud Oise</td>\n",
       "      <td>2020-07-01</td>\n",
       "      <td>SIM Picardie##musee@mairie-creil.fr#http://www...</td>\n",
       "      <td>Engagé à respecter les protocoles sanitaires o...</td>\n",
       "      <td>La maison Gallé-Juillet présente des collectio...</td>\n",
       "      <td>https://data.datatourisme.gouv.fr/28/18809d1b-...</td>\n",
       "    </tr>\n",
       "    <tr>\n",
       "      <th>4</th>\n",
       "      <td>Maison de la Faïence</td>\n",
       "      <td>http://schema.org/Museum|https://www.datatouri...</td>\n",
       "      <td>49.260717</td>\n",
       "      <td>2.472987</td>\n",
       "      <td>Place François Mitterand</td>\n",
       "      <td>60100#Creil</td>\n",
       "      <td>Les guides sont équipés de blouse et visière. ...</td>\n",
       "      <td>True</td>\n",
       "      <td>True</td>\n",
       "      <td>SIM Picardie - Office de Tourisme Creil Sud Oise</td>\n",
       "      <td>SIM Picardie - Office de Tourisme Creil Sud Oise</td>\n",
       "      <td>2020-06-08</td>\n",
       "      <td>SIM Picardie#+33 3 44 29 51 50#musee@mairie-cr...</td>\n",
       "      <td>Engagé à respecter les protocoles sanitaires o...</td>\n",
       "      <td>Près de 600 faïences fines de Creil datant du ...</td>\n",
       "      <td>https://data.datatourisme.gouv.fr/28/d0d305d8-...</td>\n",
       "    </tr>\n",
       "  </tbody>\n",
       "</table>\n",
       "</div>"
      ],
      "text/plain": [
       "                              Nom_du_POI  \\\n",
       "0                     Le Bistro de César   \n",
       "1  Château de Condé, demeure des Princes   \n",
       "2               Parc du Château de Condé   \n",
       "3                    Musée Gallé-Juillet   \n",
       "4                   Maison de la Faïence   \n",
       "\n",
       "                                   Categories_de_POI   Latitude  Longitude  \\\n",
       "0  https://www.datatourisme.gouv.fr/ontology/core...  49.954915   2.116033   \n",
       "1  https://www.datatourisme.gouv.fr/ontology/core...  49.004791   3.559012   \n",
       "2  https://www.datatourisme.gouv.fr/ontology/core...  49.004755   3.559082   \n",
       "3  http://schema.org/Museum|https://www.datatouri...  49.261296   2.473935   \n",
       "4  http://schema.org/Museum|https://www.datatouri...  49.260717   2.472987   \n",
       "\n",
       "            Adresse_postale        Code_postal_et_commune  \\\n",
       "0              Rue d'Amiens  80310#La Chaussée-Tirancourt   \n",
       "1          4 rue du Château           02330#Condé-en-Brie   \n",
       "2          4 rue du Château           02330#Condé-en-Brie   \n",
       "3  Place François Mitterand                   60100#Creil   \n",
       "4  Place François Mitterand                   60100#Creil   \n",
       "\n",
       "                         Covid19_mesures_specifiques Covid19_est_en_activite  \\\n",
       "0                                                NaN                     NaN   \n",
       "1  4 visites guidées par jour à 10h00, 14h00, 15h...                    True   \n",
       "2  4 visites guidées par jour\\r\\nRéservation 24h ...                    True   \n",
       "3  Les guides sont équipés de blouse et visière. ...                    True   \n",
       "4  Les guides sont équipés de blouse et visière. ...                    True   \n",
       "\n",
       "  Covid19_periodes_d_ouvertures_confirmees  \\\n",
       "0                                      NaN   \n",
       "1                                     True   \n",
       "2                                     True   \n",
       "3                                     True   \n",
       "4                                     True   \n",
       "\n",
       "                               Createur_de_la_donnee  \\\n",
       "0                  SIM Picardie - OT NIEVRE ET SOMME   \n",
       "1               SIM Picardie - Agence Aisne Tourisme   \n",
       "2  SIM Picardie - Maison du Tourisme Les Portes d...   \n",
       "3   SIM Picardie - Office de Tourisme Creil Sud Oise   \n",
       "4   SIM Picardie - Office de Tourisme Creil Sud Oise   \n",
       "\n",
       "                                       SIT_diffuseur Date_de_mise_a_jour  \\\n",
       "0  Aisne: 03 23 27 76 76<br />Oise: 03 64 60 60 6...          2020-06-20   \n",
       "1               SIM Picardie - Agence Aisne Tourisme          2020-07-21   \n",
       "2  SIM Picardie - Maison du Tourisme Les Portes d...          2020-06-04   \n",
       "3   SIM Picardie - Office de Tourisme Creil Sud Oise          2020-07-01   \n",
       "4   SIM Picardie - Office de Tourisme Creil Sud Oise          2020-06-08   \n",
       "\n",
       "                                     Contacts_du_POI  \\\n",
       "0  Le Bistro de César##accueil.samara@somme.fr#ht...   \n",
       "1  SIM Picardie#+33 3 23 82 42 25#contact@chateau...   \n",
       "2  #+33 3 23 82 42 25#contact@chateaudeconde.fr#h...   \n",
       "3  SIM Picardie##musee@mairie-creil.fr#http://www...   \n",
       "4  SIM Picardie#+33 3 44 29 51 50#musee@mairie-cr...   \n",
       "\n",
       "                                  Classements_du_POI  \\\n",
       "0                                                NaN   \n",
       "1  Engagé à respecter les protocoles sanitaires o...   \n",
       "2  Engagé à respecter les protocoles sanitaires o...   \n",
       "3  Engagé à respecter les protocoles sanitaires o...   \n",
       "4  Engagé à respecter les protocoles sanitaires o...   \n",
       "\n",
       "                                         Description  \\\n",
       "0                                               true   \n",
       "1  Le bijou est à l'intérieur ! Admirez ses sompt...   \n",
       "2                                                NaN   \n",
       "3  La maison Gallé-Juillet présente des collectio...   \n",
       "4  Près de 600 faïences fines de Creil datant du ...   \n",
       "\n",
       "                                       URI_ID_du_POI  \n",
       "0  https://data.datatourisme.gouv.fr/28/b0f51842-...  \n",
       "1  https://data.datatourisme.gouv.fr/28/16c4c1db-...  \n",
       "2  https://data.datatourisme.gouv.fr/28/695ba7ba-...  \n",
       "3  https://data.datatourisme.gouv.fr/28/18809d1b-...  \n",
       "4  https://data.datatourisme.gouv.fr/28/d0d305d8-...  "
      ]
     },
     "execution_count": 5,
     "metadata": {},
     "output_type": "execute_result"
    }
   ],
   "source": [
    "# On visualise un aperçu du fichier\n",
    "base_tourisme.head()"
   ]
  },
  {
   "cell_type": "code",
   "execution_count": 7,
   "metadata": {},
   "outputs": [
    {
     "data": {
      "text/plain": [
       "(281752, 16)"
      ]
     },
     "execution_count": 7,
     "metadata": {},
     "output_type": "execute_result"
    }
   ],
   "source": [
    "# On visualise le nombre de lignes et de colonnes\n",
    "base_tourisme.shape"
   ]
  },
  {
   "cell_type": "code",
   "execution_count": 8,
   "metadata": {},
   "outputs": [
    {
     "data": {
      "text/plain": [
       "Index(['Nom_du_POI', 'Categories_de_POI', 'Latitude', 'Longitude',\n",
       "       'Adresse_postale', 'Code_postal_et_commune',\n",
       "       'Covid19_mesures_specifiques', 'Covid19_est_en_activite',\n",
       "       'Covid19_periodes_d_ouvertures_confirmees', 'Createur_de_la_donnee',\n",
       "       'SIT_diffuseur', 'Date_de_mise_a_jour', 'Contacts_du_POI',\n",
       "       'Classements_du_POI', 'Description', 'URI_ID_du_POI'],\n",
       "      dtype='object')"
      ]
     },
     "execution_count": 8,
     "metadata": {},
     "output_type": "execute_result"
    }
   ],
   "source": [
    "# Voir les colonnes du fichier\n",
    "base_tourisme.columns"
   ]
  },
  {
   "cell_type": "code",
   "execution_count": 9,
   "metadata": {},
   "outputs": [
    {
     "data": {
      "text/plain": [
       "Nom_du_POI                                       0\n",
       "Categories_de_POI                                0\n",
       "Latitude                                         0\n",
       "Longitude                                        0\n",
       "Adresse_postale                              21027\n",
       "Code_postal_et_commune                           0\n",
       "Covid19_mesures_specifiques                 257666\n",
       "Covid19_est_en_activite                     111965\n",
       "Covid19_periodes_d_ouvertures_confirmees    173046\n",
       "Createur_de_la_donnee                            0\n",
       "SIT_diffuseur                                    0\n",
       "Date_de_mise_a_jour                              0\n",
       "Contacts_du_POI                               6360\n",
       "Classements_du_POI                          202491\n",
       "Description                                  73849\n",
       "URI_ID_du_POI                                    0\n",
       "dtype: int64"
      ]
     },
     "execution_count": 9,
     "metadata": {},
     "output_type": "execute_result"
    }
   ],
   "source": [
    "# Voir le nombre de isnan dans les colonnes\n",
    "base_tourisme.isna().sum()"
   ]
  },
  {
   "cell_type": "code",
   "execution_count": 14,
   "metadata": {},
   "outputs": [
    {
     "data": {
      "text/plain": [
       "Nom_du_POI                                   object\n",
       "Categories_de_POI                            object\n",
       "Latitude                                    float64\n",
       "Longitude                                   float64\n",
       "Adresse_postale                              object\n",
       "Code_postal_et_commune                       object\n",
       "Covid19_mesures_specifiques                  object\n",
       "Covid19_est_en_activite                      object\n",
       "Covid19_periodes_d_ouvertures_confirmees     object\n",
       "Createur_de_la_donnee                        object\n",
       "SIT_diffuseur                                object\n",
       "Date_de_mise_a_jour                          object\n",
       "Contacts_du_POI                              object\n",
       "Classements_du_POI                           object\n",
       "Description                                  object\n",
       "URI_ID_du_POI                                object\n",
       "dtype: object"
      ]
     },
     "execution_count": 14,
     "metadata": {},
     "output_type": "execute_result"
    }
   ],
   "source": [
    "# Voir les types des colonnes\n",
    "base_tourisme.dtypes"
   ]
  },
  {
   "cell_type": "code",
   "execution_count": null,
   "metadata": {},
   "outputs": [],
   "source": []
  }
 ],
 "metadata": {
  "kernelspec": {
   "display_name": "Python 3",
   "language": "python",
   "name": "python3"
  },
  "language_info": {
   "codemirror_mode": {
    "name": "ipython",
    "version": 3
   },
   "file_extension": ".py",
   "mimetype": "text/x-python",
   "name": "python",
   "nbconvert_exporter": "python",
   "pygments_lexer": "ipython3",
   "version": "3.7.6"
  }
 },
 "nbformat": 4,
 "nbformat_minor": 4
}
