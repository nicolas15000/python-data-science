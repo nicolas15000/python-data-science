{
 "cells": [
  {
   "cell_type": "code",
   "execution_count": 1,
   "metadata": {},
   "outputs": [],
   "source": [
    "mon_dictionnaire={\"Marie\":15,\"Thomas\":12,\"Julien\":\"absent\",\"Elise\":9,\"Samuel\":17}"
   ]
  },
  {
   "cell_type": "code",
   "execution_count": 2,
   "metadata": {},
   "outputs": [
    {
     "data": {
      "text/plain": [
       "{'Marie': 15, 'Thomas': 12, 'Julien': 'absent', 'Elise': 9, 'Samuel': 17}"
      ]
     },
     "execution_count": 2,
     "metadata": {},
     "output_type": "execute_result"
    }
   ],
   "source": [
    "mon_dictionnaire"
   ]
  },
  {
   "cell_type": "code",
   "execution_count": 3,
   "metadata": {},
   "outputs": [
    {
     "data": {
      "text/plain": [
       "15"
      ]
     },
     "execution_count": 3,
     "metadata": {},
     "output_type": "execute_result"
    }
   ],
   "source": [
    "# Voir la valeur d'une clef\n",
    "mon_dictionnaire[\"Marie\"]"
   ]
  },
  {
   "cell_type": "code",
   "execution_count": 4,
   "metadata": {},
   "outputs": [
    {
     "data": {
      "text/plain": [
       "8"
      ]
     },
     "execution_count": 4,
     "metadata": {},
     "output_type": "execute_result"
    }
   ],
   "source": [
    "# Modifier la valeur d'une clef\n",
    "mon_dictionnaire[\"Marie\"] = 8\n",
    "mon_dictionnaire[\"Marie\"]"
   ]
  },
  {
   "cell_type": "code",
   "execution_count": 5,
   "metadata": {},
   "outputs": [
    {
     "data": {
      "text/plain": [
       "{'Thomas': 12, 'Julien': 'absent', 'Elise': 9, 'Samuel': 17}"
      ]
     },
     "execution_count": 5,
     "metadata": {},
     "output_type": "execute_result"
    }
   ],
   "source": [
    "# Sup la valeur d'une clef\n",
    "del mon_dictionnaire[\"Marie\"]\n",
    "mon_dictionnaire"
   ]
  },
  {
   "cell_type": "code",
   "execution_count": 6,
   "metadata": {},
   "outputs": [
    {
     "data": {
      "text/plain": [
       "dict_keys(['Thomas', 'Julien', 'Elise', 'Samuel'])"
      ]
     },
     "execution_count": 6,
     "metadata": {},
     "output_type": "execute_result"
    }
   ],
   "source": [
    "# Parcourir un dictionnaire et voir ses clefs \n",
    "mon_dictionnaire.keys()"
   ]
  },
  {
   "cell_type": "code",
   "execution_count": 7,
   "metadata": {},
   "outputs": [
    {
     "data": {
      "text/plain": [
       "dict_values([12, 'absent', 9, 17])"
      ]
     },
     "execution_count": 7,
     "metadata": {},
     "output_type": "execute_result"
    }
   ],
   "source": [
    "# Parcourir un dictionnaire et voir ses valeurs\n",
    "mon_dictionnaire.values()"
   ]
  },
  {
   "cell_type": "code",
   "execution_count": 8,
   "metadata": {},
   "outputs": [
    {
     "name": "stdout",
     "output_type": "stream",
     "text": [
      "Thomas\n",
      "Julien\n",
      "Elise\n",
      "Samuel\n"
     ]
    }
   ],
   "source": [
    "# Parcourir les clefs d'un dictionnaire \n",
    "for key in mon_dictionnaire.keys():\n",
    "    print(key)"
   ]
  },
  {
   "cell_type": "code",
   "execution_count": 10,
   "metadata": {},
   "outputs": [
    {
     "data": {
      "text/plain": [
       "dict_items([('Thomas', 12), ('Julien', 'absent'), ('Elise', 9), ('Samuel', 17)])"
      ]
     },
     "execution_count": 10,
     "metadata": {},
     "output_type": "execute_result"
    }
   ],
   "source": [
    "# Parcourir les items d'un dictionnaire \n",
    "mon_dictionnaire.items()"
   ]
  },
  {
   "cell_type": "code",
   "execution_count": 11,
   "metadata": {},
   "outputs": [
    {
     "name": "stdout",
     "output_type": "stream",
     "text": [
      "Thomas 12\n",
      "Julien absent\n",
      "Elise 9\n",
      "Samuel 17\n"
     ]
    }
   ],
   "source": [
    "# Parcourir les items d'un dictionnaire par clef et valeur \n",
    "for clef,valeur in mon_dictionnaire.items():\n",
    "    print(clef,valeur)"
   ]
  },
  {
   "cell_type": "code",
   "execution_count": 6,
   "metadata": {},
   "outputs": [],
   "source": [
    "# EXERCICE\n",
    "dict = {\"Marie\":15,\"Samuel\":17,\"Gaston\":12,\"Fred\":10,\"Mae\":5,\"Julie\":15,\"Zoe\":7,\"Claire\":20,\"Chloe\":8,\"Julien\":14,\"Gael\":9,\"Samia\":15,\"Omar\":11,\"Gabriel\":16,\"Manon\":2}"
   ]
  },
  {
   "cell_type": "code",
   "execution_count": 7,
   "metadata": {},
   "outputs": [
    {
     "data": {
      "text/plain": [
       "dict_items([('Marie', 15), ('Samuel', 17), ('Gaston', 12), ('Fred', 10), ('Mae', 5), ('Julie', 15), ('Zoe', 7), ('Claire', 20), ('Chloe', 8), ('Julien', 14), ('Gael', 9), ('Samia', 15), ('Omar', 11), ('Gabriel', 16), ('Manon', 2)])"
      ]
     },
     "execution_count": 7,
     "metadata": {},
     "output_type": "execute_result"
    }
   ],
   "source": [
    "dict.items()"
   ]
  },
  {
   "cell_type": "code",
   "execution_count": 8,
   "metadata": {},
   "outputs": [
    {
     "name": "stdout",
     "output_type": "stream",
     "text": [
      "176\n",
      "15\n",
      "11.733333333333333\n"
     ]
    }
   ],
   "source": [
    "# Moyenne des notes\n",
    "somme  = sum(dict.values())\n",
    "print(somme)\n",
    "taille = len(dict.keys())\n",
    "print(taille)\n",
    "moyenne = somme / taille\n",
    "print (moyenne)"
   ]
  },
  {
   "cell_type": "code",
   "execution_count": 9,
   "metadata": {},
   "outputs": [
    {
     "name": "stdout",
     "output_type": "stream",
     "text": [
      "11.733333333333333\n"
     ]
    }
   ],
   "source": [
    "# Moyenne des notes (CORRECTION)\n",
    "ma_liste = list(dict.values())\n",
    "import numpy\n",
    "moyenne = numpy.mean(ma_liste)\n",
    "print(moyenne)"
   ]
  },
  {
   "cell_type": "code",
   "execution_count": 10,
   "metadata": {},
   "outputs": [
    {
     "data": {
      "text/plain": [
       "15"
      ]
     },
     "execution_count": 10,
     "metadata": {},
     "output_type": "execute_result"
    }
   ],
   "source": [
    "# Nb total élèves ?\n",
    "len(dict.keys())"
   ]
  },
  {
   "cell_type": "code",
   "execution_count": 11,
   "metadata": {},
   "outputs": [
    {
     "name": "stdout",
     "output_type": "stream",
     "text": [
      "Nb total d'élèves au dessus de la moyenne :  8\n"
     ]
    }
   ],
   "source": [
    "# Nb total d'élèves au dessus de la moyenne ?\n",
    "count = 0\n",
    "for clef,valeur in dict.items():\n",
    "    if valeur > moyenne:\n",
    "        count = count + 1\n",
    "print(\"Nb total d'élèves au dessus de la moyenne : \",count)"
   ]
  },
  {
   "cell_type": "code",
   "execution_count": 12,
   "metadata": {},
   "outputs": [
    {
     "name": "stdout",
     "output_type": "stream",
     "text": [
      "Le meilleur élève est  :  ('Claire', 20)\n"
     ]
    }
   ],
   "source": [
    "# Prénom du meilleur élève de la classe ?\n",
    "count = 0\n",
    "valeur_actuelle = 0\n",
    "mon_tuple = ()\n",
    "for clef,valeur in dict.items():\n",
    "    if valeur > valeur_actuelle :\n",
    "        valeur_actuelle = valeur\n",
    "        mon_tuple = (clef,valeur)    \n",
    "        count = count + 1\n",
    "print(\"Le meilleur élève est  : \",mon_tuple)"
   ]
  },
  {
   "cell_type": "code",
   "execution_count": 13,
   "metadata": {},
   "outputs": [
    {
     "name": "stdout",
     "output_type": "stream",
     "text": [
      "nb élèves ont un prénom avec strictement moins de 4 lettres  :  2\n"
     ]
    }
   ],
   "source": [
    "# Combien d'élèves ont un prénom avec strictement moins de 4 lettres ?\n",
    "count = 0\n",
    "for clef,valeur in dict.items():\n",
    "    if len(clef) < 4:   \n",
    "        count = count + 1\n",
    "print(\"nb élèves ont un prénom avec strictement moins de 4 lettres  : \",count)"
   ]
  },
  {
   "cell_type": "code",
   "execution_count": 14,
   "metadata": {},
   "outputs": [
    {
     "name": "stdout",
     "output_type": "stream",
     "text": [
      "nb d'élèves qui ont une note paire  :  7\n"
     ]
    }
   ],
   "source": [
    "# Afficher le nb d'élèves qui ont une note paire \n",
    "count = 0\n",
    "for clef,valeur in dict.items():\n",
    "    # Le test pour trouver un nombre pair (even en anglais) donne pour le modulo un résultat de 0, ça prouve qu'il est pair .\n",
    "    if valeur % 2 == 0:   \n",
    "        count = count + 1\n",
    "print(\"nb d'élèves qui ont une note paire  : \",count)"
   ]
  },
  {
   "cell_type": "code",
   "execution_count": 15,
   "metadata": {},
   "outputs": [
    {
     "data": {
      "text/plain": [
       "[15, 17, 12, 10, 5, 15, 7, 20, 8, 14, 9, 15, 11, 16, 2]"
      ]
     },
     "execution_count": 15,
     "metadata": {},
     "output_type": "execute_result"
    }
   ],
   "source": [
    "# Transformer les valuers d'un dictionnaire en liste \n",
    "list(dict.values())"
   ]
  },
  {
   "cell_type": "code",
   "execution_count": null,
   "metadata": {},
   "outputs": [],
   "source": []
  }
 ],
 "metadata": {
  "kernelspec": {
   "display_name": "Python 3",
   "language": "python",
   "name": "python3"
  },
  "language_info": {
   "codemirror_mode": {
    "name": "ipython",
    "version": 3
   },
   "file_extension": ".py",
   "mimetype": "text/x-python",
   "name": "python",
   "nbconvert_exporter": "python",
   "pygments_lexer": "ipython3",
   "version": "3.7.6"
  }
 },
 "nbformat": 4,
 "nbformat_minor": 4
}
