{
 "cells": [
  {
   "cell_type": "code",
   "execution_count": 3,
   "metadata": {},
   "outputs": [],
   "source": [
    "# Import du fichier \n",
    "import numpy as np\n",
    "houses = np.genfromtxt(\"Houses.csv\",delimiter = \",\",dtype = int)"
   ]
  },
  {
   "cell_type": "code",
   "execution_count": 4,
   "metadata": {},
   "outputs": [
    {
     "data": {
      "text/plain": [
       "array([[212000,   4148,  25264],\n",
       "       [230000,   2501,  11891],\n",
       "       [339000,   4374,  25351],\n",
       "       [289000,   2398,  22215],\n",
       "       [160000,   2536,   9234],\n",
       "       [ 85000,   2368,  13329],\n",
       "       [ 85000,   1264,   8407],\n",
       "       [145000,   1572,  12588],\n",
       "       [164000,   2375,  16204],\n",
       "       [123500,   1161,   9626],\n",
       "       [180000,   1542,   8755],\n",
       "       [159500,   1464,  14636],\n",
       "       [156000,   2240,  21780],\n",
       "       [146500,   1269,  11250],\n",
       "       [101500,    924,   7361],\n",
       "       [109800,    768,  10497],\n",
       "       [182000,   1320,  15768],\n",
       "       [110000,   1845,  12153],\n",
       "       [125000,   1274,  13634],\n",
       "       [ 80000,   1905,  10890]])"
      ]
     },
     "execution_count": 4,
     "metadata": {},
     "output_type": "execute_result"
    }
   ],
   "source": [
    "houses\n",
    "# Prix , Taille Maison , Taille terrain"
   ]
  },
  {
   "cell_type": "code",
   "execution_count": 10,
   "metadata": {},
   "outputs": [],
   "source": [
    "# 1 Convertir le prix des maison en euros  => Mutliplier par 0.86 la première colonne .\n",
    "\n",
    "houses [:,0]  = houses[:,0]  * 0.86"
   ]
  },
  {
   "cell_type": "code",
   "execution_count": 11,
   "metadata": {},
   "outputs": [
    {
     "data": {
      "text/plain": [
       "array([[156795,   4148,  25264],\n",
       "       [170108,   2501,  11891],\n",
       "       [250724,   4374,  25351],\n",
       "       [213744,   2398,  22215],\n",
       "       [118336,   2536,   9234],\n",
       "       [ 62866,   2368,  13329],\n",
       "       [ 62866,   1264,   8407],\n",
       "       [107242,   1572,  12588],\n",
       "       [121294,   2375,  16204],\n",
       "       [ 91340,   1161,   9626],\n",
       "       [133128,   1542,   8755],\n",
       "       [117966,   1464,  14636],\n",
       "       [115377,   2240,  21780],\n",
       "       [108351,   1269,  11250],\n",
       "       [ 75069,    924,   7361],\n",
       "       [ 81208,    768,  10497],\n",
       "       [134607,   1320,  15768],\n",
       "       [ 81356,   1845,  12153],\n",
       "       [ 92450,   1274,  13634],\n",
       "       [ 59168,   1905,  10890]])"
      ]
     },
     "execution_count": 11,
     "metadata": {},
     "output_type": "execute_result"
    }
   ],
   "source": [
    "houses"
   ]
  },
  {
   "cell_type": "code",
   "execution_count": 13,
   "metadata": {},
   "outputs": [
    {
     "data": {
      "text/plain": [
       "array([[156795,     33,   2273],\n",
       "       [170108,     20,   1070],\n",
       "       [250724,     35,   2281],\n",
       "       [213744,     19,   1999],\n",
       "       [118336,     20,    831],\n",
       "       [ 62866,     19,   1199],\n",
       "       [ 62866,     10,    756],\n",
       "       [107242,     12,   1132],\n",
       "       [121294,     19,   1458],\n",
       "       [ 91340,      9,    866],\n",
       "       [133128,     12,    787],\n",
       "       [117966,     11,   1317],\n",
       "       [115377,     18,   1960],\n",
       "       [108351,     10,   1012],\n",
       "       [ 75069,      7,    662],\n",
       "       [ 81208,      6,    944],\n",
       "       [134607,     10,   1419],\n",
       "       [ 81356,     14,   1093],\n",
       "       [ 92450,     10,   1227],\n",
       "       [ 59168,     15,    980]])"
      ]
     },
     "execution_count": 13,
     "metadata": {},
     "output_type": "execute_result"
    }
   ],
   "source": [
    "# 2 Convertir les pieds carrés par des m2 \n",
    "\n",
    "houses [:,1]  = houses[:,1]  * 0.09\n",
    "houses [:,2]  = houses[:,2]  * 0.09\n",
    "houses"
   ]
  },
  {
   "cell_type": "code",
   "execution_count": 27,
   "metadata": {},
   "outputs": [
    {
     "data": {
      "text/plain": [
       "array([[156795,     33,   2273],\n",
       "       [170108,     20,   1070],\n",
       "       [250724,     35,   2281],\n",
       "       [213744,     19,   1999],\n",
       "       [ 62866,     19,   1199],\n",
       "       [107242,     12,   1132],\n",
       "       [121294,     19,   1458],\n",
       "       [117966,     11,   1317],\n",
       "       [115377,     18,   1960],\n",
       "       [108351,     10,   1012],\n",
       "       [134607,     10,   1419],\n",
       "       [ 81356,     14,   1093],\n",
       "       [ 92450,     10,   1227]])"
      ]
     },
     "execution_count": 27,
     "metadata": {},
     "output_type": "execute_result"
    }
   ],
   "source": [
    "# 2 Combien de maisons ont un terrain de plus de 1000 m2 ?\n",
    "houses [houses[:,2] > 1000]"
   ]
  },
  {
   "cell_type": "code",
   "execution_count": 26,
   "metadata": {},
   "outputs": [
    {
     "data": {
      "text/plain": [
       "2353995"
      ]
     },
     "execution_count": 26,
     "metadata": {},
     "output_type": "execute_result"
    }
   ],
   "source": [
    "# 3 Somme de la vente des maisons\n",
    "houses[:,0].sum()"
   ]
  },
  {
   "cell_type": "code",
   "execution_count": 28,
   "metadata": {},
   "outputs": [
    {
     "data": {
      "text/plain": [
       "250724"
      ]
     },
     "execution_count": 28,
     "metadata": {},
     "output_type": "execute_result"
    }
   ],
   "source": [
    "# 3 Taille de la maison vendu ela plus chère\n",
    "houses[:,0].max()"
   ]
  },
  {
   "cell_type": "code",
   "execution_count": 30,
   "metadata": {},
   "outputs": [
    {
     "data": {
      "text/plain": [
       "[array([[156795,     33,   2273],\n",
       "        [170108,     20,   1070]]),\n",
       " array([[250724,     35,   2281],\n",
       "        [213744,     19,   1999],\n",
       "        [118336,     20,    831],\n",
       "        [ 62866,     19,   1199]]),\n",
       " array([[ 62866,     10,    756],\n",
       "        [107242,     12,   1132],\n",
       "        [121294,     19,   1458],\n",
       "        [ 91340,      9,    866],\n",
       "        [133128,     12,    787],\n",
       "        [117966,     11,   1317],\n",
       "        [115377,     18,   1960],\n",
       "        [108351,     10,   1012],\n",
       "        [ 75069,      7,    662],\n",
       "        [ 81208,      6,    944],\n",
       "        [134607,     10,   1419],\n",
       "        [ 81356,     14,   1093],\n",
       "        [ 92450,     10,   1227],\n",
       "        [ 59168,     15,    980]])]"
      ]
     },
     "execution_count": 30,
     "metadata": {},
     "output_type": "execute_result"
    }
   ],
   "source": [
    "# 4 Splitter le tableau en 3\n",
    "np.split(houses,[2,6])"
   ]
  },
  {
   "cell_type": "code",
   "execution_count": null,
   "metadata": {},
   "outputs": [],
   "source": []
  }
 ],
 "metadata": {
  "kernelspec": {
   "display_name": "Python 3",
   "language": "python",
   "name": "python3"
  },
  "language_info": {
   "codemirror_mode": {
    "name": "ipython",
    "version": 3
   },
   "file_extension": ".py",
   "mimetype": "text/x-python",
   "name": "python",
   "nbconvert_exporter": "python",
   "pygments_lexer": "ipython3",
   "version": "3.7.6"
  }
 },
 "nbformat": 4,
 "nbformat_minor": 4
}
