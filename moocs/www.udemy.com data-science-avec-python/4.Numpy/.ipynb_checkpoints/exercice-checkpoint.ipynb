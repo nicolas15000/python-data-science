{
 "cells": [
  {
   "cell_type": "code",
   "execution_count": 52,
   "metadata": {},
   "outputs": [],
   "source": [
    "# Import du fichier \n",
    "import numpy as np\n",
    "houses = np.genfromtxt(\"Houses.csv\",delimiter = \",\",dtype = int)"
   ]
  },
  {
   "cell_type": "code",
   "execution_count": 53,
   "metadata": {},
   "outputs": [
    {
     "data": {
      "text/plain": [
       "array([[212000,   4148,  25264],\n",
       "       [230000,   2501,  11891],\n",
       "       [339000,   4374,  25351],\n",
       "       [289000,   2398,  22215],\n",
       "       [160000,   2536,   9234],\n",
       "       [ 85000,   2368,  13329],\n",
       "       [ 85000,   1264,   8407],\n",
       "       [145000,   1572,  12588],\n",
       "       [164000,   2375,  16204],\n",
       "       [123500,   1161,   9626],\n",
       "       [180000,   1542,   8755],\n",
       "       [159500,   1464,  14636],\n",
       "       [156000,   2240,  21780],\n",
       "       [146500,   1269,  11250],\n",
       "       [101500,    924,   7361],\n",
       "       [109800,    768,  10497],\n",
       "       [182000,   1320,  15768],\n",
       "       [110000,   1845,  12153],\n",
       "       [125000,   1274,  13634],\n",
       "       [ 80000,   1905,  10890]])"
      ]
     },
     "execution_count": 53,
     "metadata": {},
     "output_type": "execute_result"
    }
   ],
   "source": [
    "houses\n",
    "# Prix , Taille Maison , Taille terrain"
   ]
  },
  {
   "cell_type": "code",
   "execution_count": 54,
   "metadata": {},
   "outputs": [],
   "source": [
    "# 1 Convertir le prix des maison en euros  => Mutliplier par 0.86 la première colonne .\n",
    "\n",
    "houses [:,0]  = houses[:,0]  * 0.86"
   ]
  },
  {
   "cell_type": "code",
   "execution_count": 55,
   "metadata": {},
   "outputs": [
    {
     "data": {
      "text/plain": [
       "array([[182320,   4148,  25264],\n",
       "       [197800,   2501,  11891],\n",
       "       [291540,   4374,  25351],\n",
       "       [248540,   2398,  22215],\n",
       "       [137600,   2536,   9234],\n",
       "       [ 73100,   2368,  13329],\n",
       "       [ 73100,   1264,   8407],\n",
       "       [124700,   1572,  12588],\n",
       "       [141040,   2375,  16204],\n",
       "       [106210,   1161,   9626],\n",
       "       [154800,   1542,   8755],\n",
       "       [137170,   1464,  14636],\n",
       "       [134160,   2240,  21780],\n",
       "       [125990,   1269,  11250],\n",
       "       [ 87290,    924,   7361],\n",
       "       [ 94428,    768,  10497],\n",
       "       [156520,   1320,  15768],\n",
       "       [ 94600,   1845,  12153],\n",
       "       [107500,   1274,  13634],\n",
       "       [ 68800,   1905,  10890]])"
      ]
     },
     "execution_count": 55,
     "metadata": {},
     "output_type": "execute_result"
    }
   ],
   "source": [
    "houses"
   ]
  },
  {
   "cell_type": "code",
   "execution_count": 56,
   "metadata": {},
   "outputs": [
    {
     "data": {
      "text/plain": [
       "array([[182320,    373,   2273],\n",
       "       [197800,    225,   1070],\n",
       "       [291540,    393,   2281],\n",
       "       [248540,    215,   1999],\n",
       "       [137600,    228,    831],\n",
       "       [ 73100,    213,   1199],\n",
       "       [ 73100,    113,    756],\n",
       "       [124700,    141,   1132],\n",
       "       [141040,    213,   1458],\n",
       "       [106210,    104,    866],\n",
       "       [154800,    138,    787],\n",
       "       [137170,    131,   1317],\n",
       "       [134160,    201,   1960],\n",
       "       [125990,    114,   1012],\n",
       "       [ 87290,     83,    662],\n",
       "       [ 94428,     69,    944],\n",
       "       [156520,    118,   1419],\n",
       "       [ 94600,    166,   1093],\n",
       "       [107500,    114,   1227],\n",
       "       [ 68800,    171,    980]])"
      ]
     },
     "execution_count": 56,
     "metadata": {},
     "output_type": "execute_result"
    }
   ],
   "source": [
    "# 2 Convertir les pieds carrés par des m2 \n",
    "\n",
    "houses [:,1]  = houses[:,1]  * 0.09\n",
    "houses [:,2]  = houses[:,2]  * 0.09\n",
    "houses"
   ]
  },
  {
   "cell_type": "code",
   "execution_count": 63,
   "metadata": {},
   "outputs": [
    {
     "name": "stdout",
     "output_type": "stream",
     "text": [
      "[[182320    373   2273]\n",
      " [197800    225   1070]\n",
      " [291540    393   2281]\n",
      " [248540    215   1999]\n",
      " [ 73100    213   1199]\n",
      " [124700    141   1132]\n",
      " [141040    213   1458]\n",
      " [137170    131   1317]\n",
      " [134160    201   1960]\n",
      " [125990    114   1012]\n",
      " [156520    118   1419]\n",
      " [ 94600    166   1093]\n",
      " [107500    114   1227]]\n"
     ]
    },
    {
     "data": {
      "text/plain": [
       "13"
      ]
     },
     "execution_count": 63,
     "metadata": {},
     "output_type": "execute_result"
    }
   ],
   "source": [
    "# 2 Combien de maisons ont un terrain de plus de 1000 m2 ?\n",
    "print(houses [houses[:,2] > 1000])\n",
    "len(houses [houses[:,2] > 1000])"
   ]
  },
  {
   "cell_type": "code",
   "execution_count": 57,
   "metadata": {},
   "outputs": [
    {
     "data": {
      "text/plain": [
       "2737208"
      ]
     },
     "execution_count": 57,
     "metadata": {},
     "output_type": "execute_result"
    }
   ],
   "source": [
    "# 3 Somme de la vente des maisons\n",
    "houses[:,0].sum()"
   ]
  },
  {
   "cell_type": "code",
   "execution_count": 58,
   "metadata": {},
   "outputs": [
    {
     "data": {
      "text/plain": [
       "291540"
      ]
     },
     "execution_count": 58,
     "metadata": {},
     "output_type": "execute_result"
    }
   ],
   "source": [
    "# 3 Taille de la maison vendu ela plus chère\n",
    "houses[:,0].max()"
   ]
  },
  {
   "cell_type": "code",
   "execution_count": 59,
   "metadata": {},
   "outputs": [
    {
     "data": {
      "text/plain": [
       "[array([[182320,    373,   2273],\n",
       "        [197800,    225,   1070]]),\n",
       " array([[291540,    393,   2281],\n",
       "        [248540,    215,   1999],\n",
       "        [137600,    228,    831],\n",
       "        [ 73100,    213,   1199]]),\n",
       " array([[ 73100,    113,    756],\n",
       "        [124700,    141,   1132],\n",
       "        [141040,    213,   1458],\n",
       "        [106210,    104,    866],\n",
       "        [154800,    138,    787],\n",
       "        [137170,    131,   1317],\n",
       "        [134160,    201,   1960],\n",
       "        [125990,    114,   1012],\n",
       "        [ 87290,     83,    662],\n",
       "        [ 94428,     69,    944],\n",
       "        [156520,    118,   1419],\n",
       "        [ 94600,    166,   1093],\n",
       "        [107500,    114,   1227],\n",
       "        [ 68800,    171,    980]])]"
      ]
     },
     "execution_count": 59,
     "metadata": {},
     "output_type": "execute_result"
    }
   ],
   "source": [
    "# 4 Splitter le tableau en 3\n",
    "np.split(houses,[2,6])"
   ]
  },
  {
   "cell_type": "code",
   "execution_count": null,
   "metadata": {},
   "outputs": [],
   "source": []
  }
 ],
 "metadata": {
  "kernelspec": {
   "display_name": "Python 3",
   "language": "python",
   "name": "python3"
  },
  "language_info": {
   "codemirror_mode": {
    "name": "ipython",
    "version": 3
   },
   "file_extension": ".py",
   "mimetype": "text/x-python",
   "name": "python",
   "nbconvert_exporter": "python",
   "pygments_lexer": "ipython3",
   "version": "3.7.6"
  }
 },
 "nbformat": 4,
 "nbformat_minor": 4
}
