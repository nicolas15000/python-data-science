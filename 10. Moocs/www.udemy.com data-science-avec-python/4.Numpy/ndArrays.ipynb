{
 "cells": [
  {
   "cell_type": "code",
   "execution_count": 4,
   "metadata": {},
   "outputs": [],
   "source": [
    "import numpy as np"
   ]
  },
  {
   "cell_type": "code",
   "execution_count": 5,
   "metadata": {},
   "outputs": [],
   "source": [
    "#Créer un tableau unidimentionnel\n",
    "notre_tableau = np.array([1,2,3,4,5,6,7,8,9,10,11,12,13,14,15,16,17,18,19,20])"
   ]
  },
  {
   "cell_type": "code",
   "execution_count": 11,
   "metadata": {},
   "outputs": [],
   "source": [
    "#Créer un tableau multi dimentionnel\n",
    "mon_tableau_multidimentionel = np.array([[1,2,3],[4,5,6],[7,8,9]])"
   ]
  },
  {
   "cell_type": "code",
   "execution_count": 13,
   "metadata": {},
   "outputs": [
    {
     "data": {
      "text/plain": [
       "array([[1, 2, 3],\n",
       "       [4, 5, 6],\n",
       "       [7, 8, 9]])"
      ]
     },
     "execution_count": 13,
     "metadata": {},
     "output_type": "execute_result"
    }
   ],
   "source": [
    "mon_tableau_multidimentionel"
   ]
  },
  {
   "cell_type": "code",
   "execution_count": 14,
   "metadata": {},
   "outputs": [],
   "source": [
    "# Un sous ensemble est une vue du tableau unidimentionnel.\n",
    "sous_tableau = notre_tableau[0:5]"
   ]
  },
  {
   "cell_type": "code",
   "execution_count": 15,
   "metadata": {},
   "outputs": [
    {
     "data": {
      "text/plain": [
       "array([1, 2, 3, 4, 5])"
      ]
     },
     "execution_count": 15,
     "metadata": {},
     "output_type": "execute_result"
    }
   ],
   "source": [
    "sous_tableau"
   ]
  },
  {
   "cell_type": "code",
   "execution_count": 16,
   "metadata": {},
   "outputs": [
    {
     "data": {
      "text/plain": [
       "array([10,  2,  3,  4,  5])"
      ]
     },
     "execution_count": 16,
     "metadata": {},
     "output_type": "execute_result"
    }
   ],
   "source": [
    "# Modifier le sous tableau modifie le tableau d'origine\n",
    "sous_tableau[0] = 10 \n",
    "sous_tableau"
   ]
  },
  {
   "cell_type": "code",
   "execution_count": 17,
   "metadata": {},
   "outputs": [
    {
     "data": {
      "text/plain": [
       "array([10,  2,  3,  4,  5,  6,  7,  8,  9, 10, 11, 12, 13, 14, 15, 16, 17,\n",
       "       18, 19, 20])"
      ]
     },
     "execution_count": 17,
     "metadata": {},
     "output_type": "execute_result"
    }
   ],
   "source": [
    "notre_tableau"
   ]
  },
  {
   "cell_type": "code",
   "execution_count": 18,
   "metadata": {},
   "outputs": [],
   "source": [
    "# Par contre, si vous veut faire une copie ....\n",
    "notre_tableau = np.array([1,2,3,4,5,6,7,8,9,10,11,12,13,14,15,16,17,18,19,20])"
   ]
  },
  {
   "cell_type": "code",
   "execution_count": 19,
   "metadata": {},
   "outputs": [],
   "source": [
    "# Je veux faire une copie et pas une vue !\n",
    "sous_tableau = notre_tableau[0:5].copy"
   ]
  },
  {
   "cell_type": "code",
   "execution_count": 21,
   "metadata": {},
   "outputs": [
    {
     "data": {
      "text/plain": [
       "6"
      ]
     },
     "execution_count": 21,
     "metadata": {},
     "output_type": "execute_result"
    }
   ],
   "source": [
    "# Acceder aux valeurs  d'un array multi dimensionnel \n",
    "#Créer un tableau multi dimentionnel\n",
    "mon_tableau_multidimentionel = np.array([[1,2,3],[4,5,6],[7,8,9]])\n",
    "# je veux la valeur à la 2ème ligne, de la 3ème colonne ( Ca commence par 0)\n",
    "mon_tableau_multidimentionel[1,2]"
   ]
  },
  {
   "cell_type": "code",
   "execution_count": 22,
   "metadata": {},
   "outputs": [
    {
     "data": {
      "text/plain": [
       "6"
      ]
     },
     "execution_count": 22,
     "metadata": {},
     "output_type": "execute_result"
    }
   ],
   "source": [
    "# je veux la valeur à la 2ème ligne, de la dernière colonne\n",
    "mon_tableau_multidimentionel[1,-1]"
   ]
  },
  {
   "cell_type": "code",
   "execution_count": 23,
   "metadata": {},
   "outputs": [
    {
     "data": {
      "text/plain": [
       "array([1, 4, 7])"
      ]
     },
     "execution_count": 23,
     "metadata": {},
     "output_type": "execute_result"
    }
   ],
   "source": [
    "# je veux toutes les valeurs de la 1ere colonne \n",
    "mon_tableau_multidimentionel[:,0]"
   ]
  },
  {
   "cell_type": "code",
   "execution_count": 24,
   "metadata": {},
   "outputs": [
    {
     "data": {
      "text/plain": [
       "array([1, 2, 3])"
      ]
     },
     "execution_count": 24,
     "metadata": {},
     "output_type": "execute_result"
    }
   ],
   "source": [
    "# je veux toutes les valeurs de la 1ere ligne\n",
    "mon_tableau_multidimentionel[0,:]"
   ]
  },
  {
   "cell_type": "code",
   "execution_count": 4,
   "metadata": {},
   "outputs": [
    {
     "data": {
      "text/plain": [
       "array([[72, 79, 15, 96],\n",
       "       [16, 20, 10, 58],\n",
       "       [16, 51, 91, 19],\n",
       "       [41, 35, 54, 31],\n",
       "       [ 4, 14, 93, 88],\n",
       "       [88, 96, 84, 75]])"
      ]
     },
     "execution_count": 4,
     "metadata": {},
     "output_type": "execute_result"
    }
   ],
   "source": [
    "# Explorer et filtrer un array\n",
    "# Par exemple garder que les valeurs supérieures à 2\n",
    "import numpy as np\n",
    "array = np.random.randint(100,size=(6,4))\n",
    "array"
   ]
  },
  {
   "cell_type": "code",
   "execution_count": 8,
   "metadata": {},
   "outputs": [
    {
     "data": {
      "text/plain": [
       "2"
      ]
     },
     "execution_count": 8,
     "metadata": {},
     "output_type": "execute_result"
    }
   ],
   "source": [
    "# lire les Dimensions du tableau\n",
    "array.ndim"
   ]
  },
  {
   "cell_type": "code",
   "execution_count": 9,
   "metadata": {},
   "outputs": [
    {
     "data": {
      "text/plain": [
       "(6, 4)"
      ]
     },
     "execution_count": 9,
     "metadata": {},
     "output_type": "execute_result"
    }
   ],
   "source": [
    "# Lire le shape : 6 et lignes et 4 colonnes\n",
    "array.shape"
   ]
  },
  {
   "cell_type": "code",
   "execution_count": 11,
   "metadata": {},
   "outputs": [
    {
     "data": {
      "text/plain": [
       "dtype('int32')"
      ]
     },
     "execution_count": 11,
     "metadata": {},
     "output_type": "execute_result"
    }
   ],
   "source": [
    "# Lire le Type des valeurs\n",
    "array.dtype"
   ]
  },
  {
   "cell_type": "code",
   "execution_count": 12,
   "metadata": {},
   "outputs": [
    {
     "data": {
      "text/plain": [
       "24"
      ]
     },
     "execution_count": 12,
     "metadata": {},
     "output_type": "execute_result"
    }
   ],
   "source": [
    "# Lire le Nb de valeurs\n",
    "array.size"
   ]
  },
  {
   "cell_type": "code",
   "execution_count": 14,
   "metadata": {},
   "outputs": [
    {
     "data": {
      "text/plain": [
       "array([72, 79, 96, 58, 51, 91, 54, 93, 88, 88, 96, 84, 75])"
      ]
     },
     "execution_count": 14,
     "metadata": {},
     "output_type": "execute_result"
    }
   ],
   "source": [
    "# Filtrer les valeurs supérieures à 50 du tableau \n",
    "array[array>50]"
   ]
  },
  {
   "cell_type": "code",
   "execution_count": 15,
   "metadata": {},
   "outputs": [
    {
     "data": {
      "text/plain": [
       "array([[ True,  True, False,  True],\n",
       "       [False, False, False,  True],\n",
       "       [False,  True,  True, False],\n",
       "       [False, False,  True, False],\n",
       "       [False, False,  True,  True],\n",
       "       [ True,  True,  True,  True]])"
      ]
     },
     "execution_count": 15,
     "metadata": {},
     "output_type": "execute_result"
    }
   ],
   "source": [
    "# Filtrer  les valeurs booléennes du tableau > 50\n",
    "array > 50 "
   ]
  },
  {
   "cell_type": "code",
   "execution_count": 31,
   "metadata": {},
   "outputs": [
    {
     "data": {
      "text/plain": [
       "array([15, 96, 16, 20, 10, 58, 16, 51, 91, 19, 41, 35, 54, 31,  4, 14, 93,\n",
       "       88, 88, 96])"
      ]
     },
     "execution_count": 31,
     "metadata": {},
     "output_type": "execute_result"
    }
   ],
   "source": [
    "# et : &\n",
    "# ou : |\n",
    "\n",
    "# Filtrer les vals Pas égales à 50 ou supérieures à 80\n",
    "array [(array < 60) | (array > 84)]"
   ]
  },
  {
   "cell_type": "code",
   "execution_count": 33,
   "metadata": {},
   "outputs": [
    {
     "data": {
      "text/plain": [
       "array([[72, 39, 28, 45],\n",
       "       [ 5, 48, 94, 27],\n",
       "       [31, 44, 24, 99],\n",
       "       [38, 16, 67, 44],\n",
       "       [84, 91, 97, 67],\n",
       "       [64, 89, 17, 36],\n",
       "       [49, 76, 94, 73],\n",
       "       [39, 59, 16,  8],\n",
       "       [63, 46, 46,  6],\n",
       "       [52, 27,  2, 30],\n",
       "       [24, 68, 96, 19],\n",
       "       [49, 25, 98, 22]])"
      ]
     },
     "execution_count": 33,
     "metadata": {},
     "output_type": "execute_result"
    }
   ],
   "source": [
    "# Concaténer les tableaux de même dimension\n",
    "array1 = np.random.randint(100,size=(6,4))\n",
    "array2 = np.random.randint(100,size=(6,4))\n",
    "np.concatenate([array1,array2])"
   ]
  },
  {
   "cell_type": "code",
   "execution_count": 34,
   "metadata": {},
   "outputs": [
    {
     "data": {
      "text/plain": [
       "array([[72, 39, 28, 45],\n",
       "       [ 5, 48, 94, 27],\n",
       "       [31, 44, 24, 99],\n",
       "       [38, 16, 67, 44],\n",
       "       [84, 91, 97, 67],\n",
       "       [64, 89, 17, 36],\n",
       "       [72, 79, 15, 96],\n",
       "       [16, 20, 10, 58],\n",
       "       [16, 51, 91, 19],\n",
       "       [41, 35, 54, 31],\n",
       "       [ 4, 14, 93, 88],\n",
       "       [88, 96, 84, 75],\n",
       "       [80, 49,  9, 31],\n",
       "       [54, 58, 92, 84],\n",
       "       [93, 38, 29, 77],\n",
       "       [65, 53, 88, 80],\n",
       "       [65, 99, 26, 87],\n",
       "       [83, 47, 50, 10]])"
      ]
     },
     "execution_count": 34,
     "metadata": {},
     "output_type": "execute_result"
    }
   ],
   "source": [
    "array3 = np.random.randint(100,size=(6,4))\n",
    "np.concatenate([array1,array,array3])"
   ]
  },
  {
   "cell_type": "code",
   "execution_count": 40,
   "metadata": {},
   "outputs": [],
   "source": [
    "# Concaténer  des tableaux de dimensions différentes .\n",
    "array1 = np.array([15,24,34])\n",
    "array2 = np.array([[1,2,3],[3,4,5],[4,5,6]])"
   ]
  },
  {
   "cell_type": "code",
   "execution_count": 41,
   "metadata": {},
   "outputs": [
    {
     "data": {
      "text/plain": [
       "array([[15, 24, 34],\n",
       "       [ 1,  2,  3],\n",
       "       [ 3,  4,  5],\n",
       "       [ 4,  5,  6]])"
      ]
     },
     "execution_count": 41,
     "metadata": {},
     "output_type": "execute_result"
    }
   ],
   "source": [
    "np.vstack([array1,array2])"
   ]
  },
  {
   "cell_type": "code",
   "execution_count": 42,
   "metadata": {},
   "outputs": [],
   "source": [
    "# Split - Cassure des tableaux de 1 dimension\n",
    "array = np.array([15,16,17,12,49,52,12,14,36])"
   ]
  },
  {
   "cell_type": "code",
   "execution_count": 43,
   "metadata": {},
   "outputs": [
    {
     "data": {
      "text/plain": [
       "[array([15, 16]), array([17, 12, 49, 52]), array([12, 14, 36])]"
      ]
     },
     "execution_count": 43,
     "metadata": {},
     "output_type": "execute_result"
    }
   ],
   "source": [
    "# On casse aux index 2 et 6\n",
    "np.split(array,[2,6])"
   ]
  },
  {
   "cell_type": "code",
   "execution_count": 44,
   "metadata": {},
   "outputs": [],
   "source": [
    "array1,array2,array3 = np.split(array,[2,6])"
   ]
  },
  {
   "cell_type": "code",
   "execution_count": 45,
   "metadata": {},
   "outputs": [
    {
     "name": "stdout",
     "output_type": "stream",
     "text": [
      "[15 16]\n"
     ]
    }
   ],
   "source": [
    "print(array1)"
   ]
  },
  {
   "cell_type": "code",
   "execution_count": 55,
   "metadata": {},
   "outputs": [
    {
     "name": "stdout",
     "output_type": "stream",
     "text": [
      "[[1 2 3]\n",
      " [4 5 6]]\n",
      "[[7 8 9]]\n"
     ]
    }
   ],
   "source": [
    "# Split - Cassure des tableaux de 2 dimensions par ligne\n",
    "array = np.array([[1,2,3],[4,5,6],[7,8,9]])\n",
    "array1,array1bis = np.vsplit(array,[2])\n",
    "print(array1)\n"
   ]
  },
  {
   "cell_type": "code",
   "execution_count": 56,
   "metadata": {},
   "outputs": [
    {
     "name": "stdout",
     "output_type": "stream",
     "text": [
      "[[7 8 9]]\n"
     ]
    }
   ],
   "source": [
    "print(array1bis)"
   ]
  },
  {
   "cell_type": "code",
   "execution_count": 52,
   "metadata": {},
   "outputs": [
    {
     "name": "stdout",
     "output_type": "stream",
     "text": [
      "[[1 2]\n",
      " [4 5]\n",
      " [7 8]]\n"
     ]
    }
   ],
   "source": [
    "# Split - Cassure des tableaux de 2 dimensions par colonne\n",
    "array = np.array([[1,2,3],[4,5,6],[7,8,9]])\n",
    "array1,array1bis = np.hsplit(array,[2])\n",
    "print(array1)"
   ]
  },
  {
   "cell_type": "code",
   "execution_count": 53,
   "metadata": {},
   "outputs": [
    {
     "name": "stdout",
     "output_type": "stream",
     "text": [
      "[[3]\n",
      " [6]\n",
      " [9]]\n"
     ]
    }
   ],
   "source": [
    "print(array1bis)"
   ]
  },
  {
   "cell_type": "code",
   "execution_count": 57,
   "metadata": {},
   "outputs": [
    {
     "data": {
      "text/plain": [
       "array([[80, 17, 37, 45, 72, 85, 73, 79, 19],\n",
       "       [65, 80, 23, 38, 22, 67, 11, 30, 40],\n",
       "       [91, 39, 10, 93, 16, 14, 51, 89, 55],\n",
       "       [64, 38, 29, 42, 90, 62, 33, 71, 25],\n",
       "       [18, 15, 81, 43, 98, 53, 35, 23, 33],\n",
       "       [98, 73, 72, 46, 64, 58, 12, 72, 88],\n",
       "       [58, 37, 31, 43, 36,  5, 75, 60, 90],\n",
       "       [38, 58, 90, 92, 61, 52, 35, 58,  7],\n",
       "       [74, 64, 96, 36,  7, 66, 76, 19, 72],\n",
       "       [36, 18,  7, 64,  4, 80, 97, 56, 35]])"
      ]
     },
     "execution_count": 57,
     "metadata": {},
     "output_type": "execute_result"
    }
   ],
   "source": [
    "#Calculer sur un array \n",
    "import numpy as np\n",
    "array = np.random.randint(100,size=(10,9))\n",
    "array"
   ]
  },
  {
   "cell_type": "code",
   "execution_count": 58,
   "metadata": {},
   "outputs": [
    {
     "data": {
      "text/plain": [
       "array([[ 82,  19,  39,  47,  74,  87,  75,  81,  21],\n",
       "       [ 67,  82,  25,  40,  24,  69,  13,  32,  42],\n",
       "       [ 93,  41,  12,  95,  18,  16,  53,  91,  57],\n",
       "       [ 66,  40,  31,  44,  92,  64,  35,  73,  27],\n",
       "       [ 20,  17,  83,  45, 100,  55,  37,  25,  35],\n",
       "       [100,  75,  74,  48,  66,  60,  14,  74,  90],\n",
       "       [ 60,  39,  33,  45,  38,   7,  77,  62,  92],\n",
       "       [ 40,  60,  92,  94,  63,  54,  37,  60,   9],\n",
       "       [ 76,  66,  98,  38,   9,  68,  78,  21,  74],\n",
       "       [ 38,  20,   9,  66,   6,  82,  99,  58,  37]])"
      ]
     },
     "execution_count": 58,
     "metadata": {},
     "output_type": "execute_result"
    }
   ],
   "source": [
    "# ajouter 2 à cahque valeurs du tab\n",
    "array + 2 "
   ]
  },
  {
   "cell_type": "code",
   "execution_count": 59,
   "metadata": {},
   "outputs": [
    {
     "data": {
      "text/plain": [
       "array([[78, 15, 35, 43, 70, 83, 71, 77, 17],\n",
       "       [63, 78, 21, 36, 20, 65,  9, 28, 38],\n",
       "       [89, 37,  8, 91, 14, 12, 49, 87, 53],\n",
       "       [62, 36, 27, 40, 88, 60, 31, 69, 23],\n",
       "       [16, 13, 79, 41, 96, 51, 33, 21, 31],\n",
       "       [96, 71, 70, 44, 62, 56, 10, 70, 86],\n",
       "       [56, 35, 29, 41, 34,  3, 73, 58, 88],\n",
       "       [36, 56, 88, 90, 59, 50, 33, 56,  5],\n",
       "       [72, 62, 94, 34,  5, 64, 74, 17, 70],\n",
       "       [34, 16,  5, 62,  2, 78, 95, 54, 33]])"
      ]
     },
     "execution_count": 59,
     "metadata": {},
     "output_type": "execute_result"
    }
   ],
   "source": [
    "# soustraire 2 à cahque valeurs du tab\n",
    "array - 2"
   ]
  },
  {
   "cell_type": "code",
   "execution_count": 60,
   "metadata": {},
   "outputs": [
    {
     "data": {
      "text/plain": [
       "array([800, 650, 910, 640, 180, 980, 580, 380, 740, 360])"
      ]
     },
     "execution_count": 60,
     "metadata": {},
     "output_type": "execute_result"
    }
   ],
   "source": [
    "# Multiplier par 10 la première colonne\n",
    "array[:,0]  *10"
   ]
  },
  {
   "cell_type": "code",
   "execution_count": 61,
   "metadata": {},
   "outputs": [
    {
     "data": {
      "text/plain": [
       "51.22222222222222"
      ]
     },
     "execution_count": 61,
     "metadata": {},
     "output_type": "execute_result"
    }
   ],
   "source": [
    "# MOyenne des valeurs \n",
    "np.mean(array)"
   ]
  },
  {
   "cell_type": "code",
   "execution_count": 63,
   "metadata": {},
   "outputs": [
    {
     "data": {
      "text/plain": [
       "98"
      ]
     },
     "execution_count": 63,
     "metadata": {},
     "output_type": "execute_result"
    }
   ],
   "source": [
    "array.max()"
   ]
  },
  {
   "cell_type": "code",
   "execution_count": 64,
   "metadata": {},
   "outputs": [
    {
     "data": {
      "text/plain": [
       "array([62.2, 43.9, 47.6, 54.2, 47. , 54.2, 49.8, 55.7, 46.4])"
      ]
     },
     "execution_count": 64,
     "metadata": {},
     "output_type": "execute_result"
    }
   ],
   "source": [
    "# Moyenne par colonne\n",
    "np.mean(array, axis = 0)"
   ]
  },
  {
   "cell_type": "code",
   "execution_count": 65,
   "metadata": {},
   "outputs": [
    {
     "data": {
      "text/plain": [
       "array([56.33333333, 41.77777778, 50.88888889, 50.44444444, 44.33333333,\n",
       "       64.77777778, 48.33333333, 54.55555556, 56.66666667, 44.11111111])"
      ]
     },
     "execution_count": 65,
     "metadata": {},
     "output_type": "execute_result"
    }
   ],
   "source": [
    "# Moyenne par ligne\n",
    "np.mean(array, axis = 1)"
   ]
  },
  {
   "cell_type": "code",
   "execution_count": null,
   "metadata": {},
   "outputs": [],
   "source": []
  }
 ],
 "metadata": {
  "kernelspec": {
   "display_name": "Python 3",
   "language": "python",
   "name": "python3"
  },
  "language_info": {
   "codemirror_mode": {
    "name": "ipython",
    "version": 3
   },
   "file_extension": ".py",
   "mimetype": "text/x-python",
   "name": "python",
   "nbconvert_exporter": "python",
   "pygments_lexer": "ipython3",
   "version": "3.7.6"
  }
 },
 "nbformat": 4,
 "nbformat_minor": 4
}
