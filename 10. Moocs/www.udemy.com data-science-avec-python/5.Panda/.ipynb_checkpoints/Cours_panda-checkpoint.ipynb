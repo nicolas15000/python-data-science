{
 "cells": [
  {
   "cell_type": "code",
   "execution_count": 2,
   "metadata": {},
   "outputs": [],
   "source": [
    "#Les dataframes \n",
    "#les Series\n",
    "# Quantitatives (int) et qualitatives ( exemple homme, femme etc ...)\n",
    "\n",
    "import pandas\n",
    "\n"
   ]
  },
  {
   "cell_type": "code",
   "execution_count": 4,
   "metadata": {},
   "outputs": [
    {
     "name": "stdout",
     "output_type": "stream",
     "text": [
      "0     11\n",
      "1     15\n",
      "2     12\n",
      "3     13\n",
      "4     14\n",
      "5     12\n",
      "6     11\n",
      "7     11\n",
      "8     10\n",
      "9     14\n",
      "10    16\n",
      "11    16\n",
      "12    14\n",
      "dtype: int64\n"
     ]
    }
   ],
   "source": [
    "serie = pandas.Series([11,15,12,13,14,12,11,11,10,14,16,16,14])\n",
    "print(serie)"
   ]
  },
  {
   "cell_type": "code",
   "execution_count": 8,
   "metadata": {},
   "outputs": [],
   "source": [
    "serie = pandas.Series([11,15,12,13,14,12,11,11,10,14,16,16,14],index = [\"Fred\",\"Jeanne\",\"Julie\",\"Julien\",\"Chloé\",\"Alex\",\"Nicolas\",\"Alice\",\"Mathéo\",\"Zoé\",\"Mael\",\"Catherine\",\"Inès\"])"
   ]
  },
  {
   "cell_type": "code",
   "execution_count": 9,
   "metadata": {},
   "outputs": [
    {
     "name": "stdout",
     "output_type": "stream",
     "text": [
      "Fred         11\n",
      "Jeanne       15\n",
      "Julie        12\n",
      "Julien       13\n",
      "Chloé        14\n",
      "Alex         12\n",
      "Nicolas      11\n",
      "Alice        11\n",
      "Mathéo       10\n",
      "Zoé          14\n",
      "Mael         16\n",
      "Catherine    16\n",
      "Inès         14\n",
      "dtype: int64\n"
     ]
    }
   ],
   "source": [
    "print(serie)"
   ]
  },
  {
   "cell_type": "code",
   "execution_count": 10,
   "metadata": {},
   "outputs": [
    {
     "data": {
      "text/plain": [
       "count    13.0\n",
       "mean     13.0\n",
       "std       2.0\n",
       "min      10.0\n",
       "25%      11.0\n",
       "50%      13.0\n",
       "75%      14.0\n",
       "max      16.0\n",
       "dtype: float64"
      ]
     },
     "execution_count": 10,
     "metadata": {},
     "output_type": "execute_result"
    }
   ],
   "source": [
    "#Fonction décrivant la distribution de la série \n",
    "serie.describe()"
   ]
  },
  {
   "cell_type": "code",
   "execution_count": 11,
   "metadata": {},
   "outputs": [
    {
     "data": {
      "text/plain": [
       "13"
      ]
     },
     "execution_count": 11,
     "metadata": {},
     "output_type": "execute_result"
    }
   ],
   "source": [
    "serie[\"Julien\"]"
   ]
  },
  {
   "cell_type": "code",
   "execution_count": 14,
   "metadata": {},
   "outputs": [
    {
     "data": {
      "text/plain": [
       "13"
      ]
     },
     "execution_count": 14,
     "metadata": {},
     "output_type": "execute_result"
    }
   ],
   "source": [
    "serie[3]"
   ]
  },
  {
   "cell_type": "code",
   "execution_count": 16,
   "metadata": {},
   "outputs": [
    {
     "data": {
      "text/plain": [
       "Fred         False\n",
       "Jeanne        True\n",
       "Julie        False\n",
       "Julien        True\n",
       "Chloé         True\n",
       "Alex         False\n",
       "Nicolas      False\n",
       "Alice        False\n",
       "Mathéo       False\n",
       "Zoé           True\n",
       "Mael          True\n",
       "Catherine     True\n",
       "Inès          True\n",
       "dtype: bool"
      ]
     },
     "execution_count": 16,
     "metadata": {},
     "output_type": "execute_result"
    }
   ],
   "source": [
    "# ensemble des élèves qui ont plus de 12 ans \n",
    "serie>12"
   ]
  },
  {
   "cell_type": "code",
   "execution_count": 18,
   "metadata": {},
   "outputs": [
    {
     "data": {
      "text/plain": [
       "Jeanne       15\n",
       "Julien       13\n",
       "Chloé        14\n",
       "Zoé          14\n",
       "Mael         16\n",
       "Catherine    16\n",
       "Inès         14\n",
       "dtype: int64"
      ]
     },
     "execution_count": 18,
     "metadata": {},
     "output_type": "execute_result"
    }
   ],
   "source": [
    "serie[serie>12]"
   ]
  },
  {
   "cell_type": "code",
   "execution_count": 31,
   "metadata": {},
   "outputs": [
    {
     "ename": "SyntaxError",
     "evalue": "invalid syntax (<ipython-input-31-5d0c8105264a>, line 2)",
     "output_type": "error",
     "traceback": [
      "\u001b[1;36m  File \u001b[1;32m\"<ipython-input-31-5d0c8105264a>\"\u001b[1;36m, line \u001b[1;32m2\u001b[0m\n\u001b[1;33m    pip install pandas\u001b[0m\n\u001b[1;37m              ^\u001b[0m\n\u001b[1;31mSyntaxError\u001b[0m\u001b[1;31m:\u001b[0m invalid syntax\n"
     ]
    }
   ],
   "source": [
    "# Les data frames \n",
    "import pandas\n",
    "import numpy as np\n",
    "houses = np.genfromtxt(\"Houses.csv\",delimiter = \",\",dtype = int)"
   ]
  },
  {
   "cell_type": "code",
   "execution_count": 32,
   "metadata": {},
   "outputs": [
    {
     "data": {
      "text/plain": [
       "array([[212000,   4148,  25264],\n",
       "       [230000,   2501,  11891],\n",
       "       [339000,   4374,  25351],\n",
       "       [289000,   2398,  22215],\n",
       "       [160000,   2536,   9234],\n",
       "       [ 85000,   2368,  13329],\n",
       "       [ 85000,   1264,   8407],\n",
       "       [145000,   1572,  12588],\n",
       "       [164000,   2375,  16204],\n",
       "       [123500,   1161,   9626],\n",
       "       [180000,   1542,   8755],\n",
       "       [159500,   1464,  14636],\n",
       "       [156000,   2240,  21780],\n",
       "       [146500,   1269,  11250],\n",
       "       [101500,    924,   7361],\n",
       "       [109800,    768,  10497],\n",
       "       [182000,   1320,  15768],\n",
       "       [110000,   1845,  12153],\n",
       "       [125000,   1274,  13634],\n",
       "       [ 80000,   1905,  10890]])"
      ]
     },
     "execution_count": 32,
     "metadata": {},
     "output_type": "execute_result"
    }
   ],
   "source": [
    "houses"
   ]
  },
  {
   "cell_type": "code",
   "execution_count": 33,
   "metadata": {},
   "outputs": [],
   "source": [
    "# on ajoute le nom des colonnes\n",
    "dataframe = pandas.DataFrame(houses,columns=[\"Prix\",\"Taille de la maison\",\"Surface du terrain\"])"
   ]
  },
  {
   "cell_type": "code",
   "execution_count": 34,
   "metadata": {},
   "outputs": [
    {
     "data": {
      "text/html": [
       "<div>\n",
       "<style scoped>\n",
       "    .dataframe tbody tr th:only-of-type {\n",
       "        vertical-align: middle;\n",
       "    }\n",
       "\n",
       "    .dataframe tbody tr th {\n",
       "        vertical-align: top;\n",
       "    }\n",
       "\n",
       "    .dataframe thead th {\n",
       "        text-align: right;\n",
       "    }\n",
       "</style>\n",
       "<table border=\"1\" class=\"dataframe\">\n",
       "  <thead>\n",
       "    <tr style=\"text-align: right;\">\n",
       "      <th></th>\n",
       "      <th>Prix</th>\n",
       "      <th>Taille de la maison</th>\n",
       "      <th>Surface du terrain</th>\n",
       "    </tr>\n",
       "  </thead>\n",
       "  <tbody>\n",
       "    <tr>\n",
       "      <th>0</th>\n",
       "      <td>212000</td>\n",
       "      <td>4148</td>\n",
       "      <td>25264</td>\n",
       "    </tr>\n",
       "    <tr>\n",
       "      <th>1</th>\n",
       "      <td>230000</td>\n",
       "      <td>2501</td>\n",
       "      <td>11891</td>\n",
       "    </tr>\n",
       "    <tr>\n",
       "      <th>2</th>\n",
       "      <td>339000</td>\n",
       "      <td>4374</td>\n",
       "      <td>25351</td>\n",
       "    </tr>\n",
       "    <tr>\n",
       "      <th>3</th>\n",
       "      <td>289000</td>\n",
       "      <td>2398</td>\n",
       "      <td>22215</td>\n",
       "    </tr>\n",
       "    <tr>\n",
       "      <th>4</th>\n",
       "      <td>160000</td>\n",
       "      <td>2536</td>\n",
       "      <td>9234</td>\n",
       "    </tr>\n",
       "    <tr>\n",
       "      <th>5</th>\n",
       "      <td>85000</td>\n",
       "      <td>2368</td>\n",
       "      <td>13329</td>\n",
       "    </tr>\n",
       "    <tr>\n",
       "      <th>6</th>\n",
       "      <td>85000</td>\n",
       "      <td>1264</td>\n",
       "      <td>8407</td>\n",
       "    </tr>\n",
       "    <tr>\n",
       "      <th>7</th>\n",
       "      <td>145000</td>\n",
       "      <td>1572</td>\n",
       "      <td>12588</td>\n",
       "    </tr>\n",
       "    <tr>\n",
       "      <th>8</th>\n",
       "      <td>164000</td>\n",
       "      <td>2375</td>\n",
       "      <td>16204</td>\n",
       "    </tr>\n",
       "    <tr>\n",
       "      <th>9</th>\n",
       "      <td>123500</td>\n",
       "      <td>1161</td>\n",
       "      <td>9626</td>\n",
       "    </tr>\n",
       "    <tr>\n",
       "      <th>10</th>\n",
       "      <td>180000</td>\n",
       "      <td>1542</td>\n",
       "      <td>8755</td>\n",
       "    </tr>\n",
       "    <tr>\n",
       "      <th>11</th>\n",
       "      <td>159500</td>\n",
       "      <td>1464</td>\n",
       "      <td>14636</td>\n",
       "    </tr>\n",
       "    <tr>\n",
       "      <th>12</th>\n",
       "      <td>156000</td>\n",
       "      <td>2240</td>\n",
       "      <td>21780</td>\n",
       "    </tr>\n",
       "    <tr>\n",
       "      <th>13</th>\n",
       "      <td>146500</td>\n",
       "      <td>1269</td>\n",
       "      <td>11250</td>\n",
       "    </tr>\n",
       "    <tr>\n",
       "      <th>14</th>\n",
       "      <td>101500</td>\n",
       "      <td>924</td>\n",
       "      <td>7361</td>\n",
       "    </tr>\n",
       "    <tr>\n",
       "      <th>15</th>\n",
       "      <td>109800</td>\n",
       "      <td>768</td>\n",
       "      <td>10497</td>\n",
       "    </tr>\n",
       "    <tr>\n",
       "      <th>16</th>\n",
       "      <td>182000</td>\n",
       "      <td>1320</td>\n",
       "      <td>15768</td>\n",
       "    </tr>\n",
       "    <tr>\n",
       "      <th>17</th>\n",
       "      <td>110000</td>\n",
       "      <td>1845</td>\n",
       "      <td>12153</td>\n",
       "    </tr>\n",
       "    <tr>\n",
       "      <th>18</th>\n",
       "      <td>125000</td>\n",
       "      <td>1274</td>\n",
       "      <td>13634</td>\n",
       "    </tr>\n",
       "    <tr>\n",
       "      <th>19</th>\n",
       "      <td>80000</td>\n",
       "      <td>1905</td>\n",
       "      <td>10890</td>\n",
       "    </tr>\n",
       "  </tbody>\n",
       "</table>\n",
       "</div>"
      ],
      "text/plain": [
       "      Prix  Taille de la maison  Surface du terrain\n",
       "0   212000                 4148               25264\n",
       "1   230000                 2501               11891\n",
       "2   339000                 4374               25351\n",
       "3   289000                 2398               22215\n",
       "4   160000                 2536                9234\n",
       "5    85000                 2368               13329\n",
       "6    85000                 1264                8407\n",
       "7   145000                 1572               12588\n",
       "8   164000                 2375               16204\n",
       "9   123500                 1161                9626\n",
       "10  180000                 1542                8755\n",
       "11  159500                 1464               14636\n",
       "12  156000                 2240               21780\n",
       "13  146500                 1269               11250\n",
       "14  101500                  924                7361\n",
       "15  109800                  768               10497\n",
       "16  182000                 1320               15768\n",
       "17  110000                 1845               12153\n",
       "18  125000                 1274               13634\n",
       "19   80000                 1905               10890"
      ]
     },
     "execution_count": 34,
     "metadata": {},
     "output_type": "execute_result"
    }
   ],
   "source": [
    "dataframe"
   ]
  },
  {
   "cell_type": "code",
   "execution_count": 37,
   "metadata": {},
   "outputs": [],
   "source": [
    "groupe1=pandas.Series([11,15,12,13,14,12,11,11,10,14,16,16,14],index = [\"Fred\",\"Jeanne\",\"Julie\",\"Julien\",\"Chloé\",\"Alex\",\"Nicolas\",\"Alice\",\"Mathéo\",\"Zoé\",\"Mael\",\"Catherine\",\"Inès\"])"
   ]
  },
  {
   "cell_type": "markdown",
   "metadata": {},
   "source": [
    "groupe2 = pandas.Series([11,15,15,11,14,12,11,13,10,14,16,16,9];index=[\"Fred\",\"jeanne,\"Damien\",\"Grace,\"Chloé\",\"Alex\",\"Nicolas\",\"Julien\",\"Mathéo\",\"Zoé\",\"Mael\",\"Catherine\",\"Samuel\"])"
   ]
  },
  {
   "cell_type": "code",
   "execution_count": 41,
   "metadata": {},
   "outputs": [],
   "source": [
    "groupe2 = pandas.Series([11,15,15,11,14,12,11,13,10,14,16,16,9],index=\n",
    "                        [\"Fred\",\"jeanne\",\"Damien\",\"Grace\",\"Chloé\",\"Alex\",\"Nicolas\",\"Julien\",\"Mathéo\",\"Zoé\",\"Mael\",\"Catherine\",\"Samuel\"])\n"
   ]
  },
  {
   "cell_type": "code",
   "execution_count": 45,
   "metadata": {},
   "outputs": [],
   "source": [
    "# les index retrouvent automatiquement les valeurs, lorsque l'on ajout 2 series ensemble disposant d'index en doublons \n",
    "# les doublons sont automatiquement gérés, et les valeurs attribués à nos index .\n",
    "dataframe = pandas.DataFrame({\"Groupe1\" : groupe1, \"Groupe2\":groupe2})"
   ]
  },
  {
   "cell_type": "code",
   "execution_count": 44,
   "metadata": {},
   "outputs": [
    {
     "data": {
      "text/html": [
       "<div>\n",
       "<style scoped>\n",
       "    .dataframe tbody tr th:only-of-type {\n",
       "        vertical-align: middle;\n",
       "    }\n",
       "\n",
       "    .dataframe tbody tr th {\n",
       "        vertical-align: top;\n",
       "    }\n",
       "\n",
       "    .dataframe thead th {\n",
       "        text-align: right;\n",
       "    }\n",
       "</style>\n",
       "<table border=\"1\" class=\"dataframe\">\n",
       "  <thead>\n",
       "    <tr style=\"text-align: right;\">\n",
       "      <th></th>\n",
       "      <th>Groupe1</th>\n",
       "      <th>Groupe2</th>\n",
       "    </tr>\n",
       "  </thead>\n",
       "  <tbody>\n",
       "    <tr>\n",
       "      <th>Alex</th>\n",
       "      <td>12.0</td>\n",
       "      <td>12.0</td>\n",
       "    </tr>\n",
       "    <tr>\n",
       "      <th>Alice</th>\n",
       "      <td>11.0</td>\n",
       "      <td>NaN</td>\n",
       "    </tr>\n",
       "    <tr>\n",
       "      <th>Catherine</th>\n",
       "      <td>16.0</td>\n",
       "      <td>16.0</td>\n",
       "    </tr>\n",
       "    <tr>\n",
       "      <th>Chloé</th>\n",
       "      <td>14.0</td>\n",
       "      <td>14.0</td>\n",
       "    </tr>\n",
       "    <tr>\n",
       "      <th>Damien</th>\n",
       "      <td>NaN</td>\n",
       "      <td>15.0</td>\n",
       "    </tr>\n",
       "    <tr>\n",
       "      <th>Fred</th>\n",
       "      <td>11.0</td>\n",
       "      <td>11.0</td>\n",
       "    </tr>\n",
       "    <tr>\n",
       "      <th>Grace</th>\n",
       "      <td>NaN</td>\n",
       "      <td>11.0</td>\n",
       "    </tr>\n",
       "    <tr>\n",
       "      <th>Inès</th>\n",
       "      <td>14.0</td>\n",
       "      <td>NaN</td>\n",
       "    </tr>\n",
       "    <tr>\n",
       "      <th>Jeanne</th>\n",
       "      <td>15.0</td>\n",
       "      <td>NaN</td>\n",
       "    </tr>\n",
       "    <tr>\n",
       "      <th>Julie</th>\n",
       "      <td>12.0</td>\n",
       "      <td>NaN</td>\n",
       "    </tr>\n",
       "    <tr>\n",
       "      <th>Julien</th>\n",
       "      <td>13.0</td>\n",
       "      <td>13.0</td>\n",
       "    </tr>\n",
       "    <tr>\n",
       "      <th>Mael</th>\n",
       "      <td>16.0</td>\n",
       "      <td>16.0</td>\n",
       "    </tr>\n",
       "    <tr>\n",
       "      <th>Mathéo</th>\n",
       "      <td>10.0</td>\n",
       "      <td>10.0</td>\n",
       "    </tr>\n",
       "    <tr>\n",
       "      <th>Nicolas</th>\n",
       "      <td>11.0</td>\n",
       "      <td>11.0</td>\n",
       "    </tr>\n",
       "    <tr>\n",
       "      <th>Samuel</th>\n",
       "      <td>NaN</td>\n",
       "      <td>9.0</td>\n",
       "    </tr>\n",
       "    <tr>\n",
       "      <th>Zoé</th>\n",
       "      <td>14.0</td>\n",
       "      <td>14.0</td>\n",
       "    </tr>\n",
       "    <tr>\n",
       "      <th>jeanne</th>\n",
       "      <td>NaN</td>\n",
       "      <td>15.0</td>\n",
       "    </tr>\n",
       "  </tbody>\n",
       "</table>\n",
       "</div>"
      ],
      "text/plain": [
       "           Groupe1  Groupe2\n",
       "Alex          12.0     12.0\n",
       "Alice         11.0      NaN\n",
       "Catherine     16.0     16.0\n",
       "Chloé         14.0     14.0\n",
       "Damien         NaN     15.0\n",
       "Fred          11.0     11.0\n",
       "Grace          NaN     11.0\n",
       "Inès          14.0      NaN\n",
       "Jeanne        15.0      NaN\n",
       "Julie         12.0      NaN\n",
       "Julien        13.0     13.0\n",
       "Mael          16.0     16.0\n",
       "Mathéo        10.0     10.0\n",
       "Nicolas       11.0     11.0\n",
       "Samuel         NaN      9.0\n",
       "Zoé           14.0     14.0\n",
       "jeanne         NaN     15.0"
      ]
     },
     "execution_count": 44,
     "metadata": {},
     "output_type": "execute_result"
    }
   ],
   "source": [
    "dataframe"
   ]
  },
  {
   "cell_type": "code",
   "execution_count": null,
   "metadata": {},
   "outputs": [],
   "source": [
    "# lire un fichier et en faire un dataframe pour gérer .\n"
   ]
  }
 ],
 "metadata": {
  "kernelspec": {
   "display_name": "Python 3",
   "language": "python",
   "name": "python3"
  },
  "language_info": {
   "codemirror_mode": {
    "name": "ipython",
    "version": 3
   },
   "file_extension": ".py",
   "mimetype": "text/x-python",
   "name": "python",
   "nbconvert_exporter": "python",
   "pygments_lexer": "ipython3",
   "version": "3.7.6"
  }
 },
 "nbformat": 4,
 "nbformat_minor": 4
}
