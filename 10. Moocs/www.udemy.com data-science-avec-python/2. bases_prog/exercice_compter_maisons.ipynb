{
 "cells": [
  {
   "cell_type": "code",
   "execution_count": 1,
   "metadata": {},
   "outputs": [],
   "source": [
    "# Création d'une liste de prix de 58 maisons\n",
    "\n",
    "prix_de_58_maisons = list(range(125000,700000,10000))"
   ]
  },
  {
   "cell_type": "code",
   "execution_count": 6,
   "metadata": {},
   "outputs": [
    {
     "data": {
      "text/plain": [
       "58"
      ]
     },
     "execution_count": 6,
     "metadata": {},
     "output_type": "execute_result"
    }
   ],
   "source": [
    "len(prix_de_58_maisons)"
   ]
  },
  {
   "cell_type": "code",
   "execution_count": 10,
   "metadata": {},
   "outputs": [
    {
     "name": "stdout",
     "output_type": "stream",
     "text": [
      "Il y a  40 Maisons de plus de 300 000 Euros\n"
     ]
    }
   ],
   "source": [
    "# Combien de maisons ont un prix supérieur ou égal à 300 000 euros ?\n",
    "\n",
    "compteur_resultat_vrai = 0\n",
    "for maison in prix_de_58_maisons:\n",
    "    if(maison >= 300000):\n",
    "        compteur_resultat_vrai = compteur_resultat_vrai + 1\n",
    "print(\"Il y a \",compteur_resultat_vrai,\"Maisons de plus de 300 000 Euros\")"
   ]
  },
  {
   "cell_type": "code",
   "execution_count": 13,
   "metadata": {},
   "outputs": [
    {
     "name": "stdout",
     "output_type": "stream",
     "text": [
      "Il y a  15 Maisons entre 250 000 et 400 000 euros\n"
     ]
    }
   ],
   "source": [
    "# Combien de maisons ont un prix entre 250 000 et 400 000 euros ?\n",
    "\n",
    "compteur_resultat_vrai = 0\n",
    "for maison in prix_de_58_maisons:\n",
    "    if(maison >= 250000 and maison <= 400000):\n",
    "        compteur_resultat_vrai = compteur_resultat_vrai + 1\n",
    "print(\"Il y a \",compteur_resultat_vrai,\"Maisons entre 250 000 et 400 000 euros\")"
   ]
  },
  {
   "cell_type": "code",
   "execution_count": 16,
   "metadata": {},
   "outputs": [
    {
     "name": "stdout",
     "output_type": "stream",
     "text": [
      "Il y a  48 maisons qui ont un prix qui n'est pas supérieur à 600 000 euros\n"
     ]
    }
   ],
   "source": [
    "# Combien de maisons ont un prix qui n'est pas supérieur à 600 000 euros?\n",
    "\n",
    "compteur_resultat_vrai = 0\n",
    "for maison in prix_de_58_maisons:\n",
    "    if not(maison > 600000 ):\n",
    "        compteur_resultat_vrai = compteur_resultat_vrai + 1\n",
    "print(\"Il y a \",compteur_resultat_vrai,\"maisons qui ont un prix qui n'est pas supérieur à 600 000 euros\")"
   ]
  },
  {
   "cell_type": "code",
   "execution_count": 15,
   "metadata": {},
   "outputs": [
    {
     "name": "stdout",
     "output_type": "stream",
     "text": [
      "Il y a  8 maisons qui ont un prix inférieur à 150 000 euros ou supérieur à 650 000 euros\n"
     ]
    }
   ],
   "source": [
    "# Combien de maisons ont un prix inférieur à 150 000 euros ou supérieur à 650 000 euros?\n",
    "\n",
    "compteur_resultat_vrai = 0\n",
    "for maison in prix_de_58_maisons:\n",
    "    if(maison < 150000 or maison > 650000):\n",
    "        compteur_resultat_vrai = compteur_resultat_vrai + 1\n",
    "print(\"Il y a \",compteur_resultat_vrai,\"maisons qui ont un prix inférieur à 150 000 euros ou supérieur à 650 000 euros\")"
   ]
  },
  {
   "cell_type": "code",
   "execution_count": null,
   "metadata": {},
   "outputs": [],
   "source": []
  }
 ],
 "metadata": {
  "kernelspec": {
   "display_name": "Python 3",
   "language": "python",
   "name": "python3"
  },
  "language_info": {
   "codemirror_mode": {
    "name": "ipython",
    "version": 3
   },
   "file_extension": ".py",
   "mimetype": "text/x-python",
   "name": "python",
   "nbconvert_exporter": "python",
   "pygments_lexer": "ipython3",
   "version": "3.7.6"
  }
 },
 "nbformat": 4,
 "nbformat_minor": 4
}
